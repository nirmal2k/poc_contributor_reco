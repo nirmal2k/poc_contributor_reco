{
 "cells": [
  {
   "cell_type": "code",
   "execution_count": 93,
   "id": "enclosed-copying",
   "metadata": {},
   "outputs": [],
   "source": [
    "import pickle\n",
    "from sklearn.model_selection import train_test_split\n",
    "from tqdm import tqdm\n",
    "import numpy as np\n",
    "from collections import defaultdict\n",
    "import random\n",
    "import pandas as pd"
   ]
  },
  {
   "cell_type": "code",
   "execution_count": 2,
   "id": "dominican-wages",
   "metadata": {},
   "outputs": [
    {
     "name": "stderr",
     "output_type": "stream",
     "text": [
      "/home/nirmal/miniconda3/envs/OPT/lib/python3.8/site-packages/tqdm/auto.py:22: TqdmWarning: IProgress not found. Please update jupyter and ipywidgets. See https://ipywidgets.readthedocs.io/en/stable/user_install.html\n",
      "  from .autonotebook import tqdm as notebook_tqdm\n"
     ]
    }
   ],
   "source": [
    "from sentence_transformers import SentenceTransformer\n",
    "from sentence_transformers.util import cos_sim\n",
    "\n",
    "from openai.embeddings_utils import get_embedding, cosine_similarity"
   ]
  },
  {
   "cell_type": "code",
   "execution_count": 3,
   "id": "human-story",
   "metadata": {},
   "outputs": [],
   "source": [
    "def get_embeddings(texts, model_name, progress=True):\n",
    "    if model_name == 'mpnet':\n",
    "        return model.encode(texts, batch_size=128,show_progress_bar=progress)\n",
    "    elif model_name == 'sgpt':\n",
    "        return sgpt_model.encode(texts, show_progress_bar=progress)\n",
    "    elif model_name == 'ada':\n",
    "        return get_ada_embedding(texts, progress)\n",
    "    elif model_name == 'dw':\n",
    "        return get_avg_node_embedding(texts)"
   ]
  },
  {
   "cell_type": "code",
   "execution_count": 4,
   "id": "friendly-watson",
   "metadata": {},
   "outputs": [
    {
     "name": "stderr",
     "output_type": "stream",
     "text": [
      "/home/nirmal/miniconda3/envs/OPT/lib/python3.8/site-packages/huggingface_hub/file_download.py:637: FutureWarning: `cached_download` is the legacy way to download files from the HF hub, please consider upgrading to `hf_hub_download`\n",
      "  warnings.warn(\n",
      "2023-05-06 05:45:11.692353: I tensorflow/core/platform/cpu_feature_guard.cc:193] This TensorFlow binary is optimized with oneAPI Deep Neural Network Library (oneDNN) to use the following CPU instructions in performance-critical operations:  AVX2 AVX512F AVX512_VNNI FMA\n",
      "To enable them in other operations, rebuild TensorFlow with the appropriate compiler flags.\n",
      "2023-05-06 05:45:11.844164: I tensorflow/core/util/port.cc:104] oneDNN custom operations are on. You may see slightly different numerical results due to floating-point round-off errors from different computation orders. To turn them off, set the environment variable `TF_ENABLE_ONEDNN_OPTS=0`.\n",
      "2023-05-06 05:45:12.559844: W tensorflow/compiler/xla/stream_executor/platform/default/dso_loader.cc:64] Could not load dynamic library 'libnvinfer.so.7'; dlerror: libnvinfer.so.7: cannot open shared object file: No such file or directory; LD_LIBRARY_PATH: /usr/local/cuda/lib:/usr/local/cuda/lib64:/usr/local/cuda/extras/CUPTI/lib64:/opt/amazon/efa/lib:/opt/amazon/openmpi/lib:/usr/local/lib:/usr/lib:/usr/local/cuda/lib:/usr/local/cuda/lib64:/usr/local/cuda/extras/CUPTI/lib64:/opt/amazon/efa/lib:/opt/amazon/openmpi/lib:/usr/local/lib:/usr/lib:\n",
      "2023-05-06 05:45:12.559962: W tensorflow/compiler/xla/stream_executor/platform/default/dso_loader.cc:64] Could not load dynamic library 'libnvinfer_plugin.so.7'; dlerror: libnvinfer_plugin.so.7: cannot open shared object file: No such file or directory; LD_LIBRARY_PATH: /usr/local/cuda/lib:/usr/local/cuda/lib64:/usr/local/cuda/extras/CUPTI/lib64:/opt/amazon/efa/lib:/opt/amazon/openmpi/lib:/usr/local/lib:/usr/lib:/usr/local/cuda/lib:/usr/local/cuda/lib64:/usr/local/cuda/extras/CUPTI/lib64:/opt/amazon/efa/lib:/opt/amazon/openmpi/lib:/usr/local/lib:/usr/lib:\n",
      "2023-05-06 05:45:12.559971: W tensorflow/compiler/tf2tensorrt/utils/py_utils.cc:38] TF-TRT Warning: Cannot dlopen some TensorRT libraries. If you would like to use Nvidia GPU with TensorRT, please make sure the missing libraries mentioned above are installed properly.\n"
     ]
    },
    {
     "name": "stdout",
     "output_type": "stream",
     "text": [
      "Using Maximum Sequence Length:  75\n"
     ]
    }
   ],
   "source": [
    "model = SentenceTransformer('sentence-transformers/stsb-mpnet-base-v2', {'cache_dir':'/data/huggingface_cache'}).to('cuda')"
   ]
  },
  {
   "cell_type": "code",
   "execution_count": 5,
   "id": "neither-valuation",
   "metadata": {},
   "outputs": [],
   "source": [
    "def get_stats(array):\n",
    "    print(\"Mean:\",np.mean(array))\n",
    "    print(\"Percentiles\")\n",
    "    for i in [5,25,50,75,90,99, 99.5, 99.7]:\n",
    "        print(f\"{i} - {round(np.percentile(array, i))}\")\n",
    "    print()"
   ]
  },
  {
   "cell_type": "code",
   "execution_count": 81,
   "id": "advanced-victoria",
   "metadata": {},
   "outputs": [],
   "source": [
    "trees, user_data, post_data, chosen_uids, chosen_trees = pickle.load(open('so_politics.pkl','rb'))"
   ]
  },
  {
   "cell_type": "code",
   "execution_count": 82,
   "id": "confident-register",
   "metadata": {},
   "outputs": [],
   "source": [
    "train_trees, test_trees = train_test_split(chosen_trees, test_size=0.33, random_state=0)"
   ]
  },
  {
   "cell_type": "code",
   "execution_count": 83,
   "id": "vital-cabinet",
   "metadata": {},
   "outputs": [
    {
     "data": {
      "text/plain": [
       "(975, 481)"
      ]
     },
     "execution_count": 83,
     "metadata": {},
     "output_type": "execute_result"
    }
   ],
   "source": [
    "len(train_trees), len(test_trees)"
   ]
  },
  {
   "cell_type": "code",
   "execution_count": 84,
   "id": "conditional-operation",
   "metadata": {},
   "outputs": [],
   "source": [
    "all_posts = []\n",
    "all_te_posts = []\n",
    "flat_uids = []\n",
    "all_tag_posts = []\n",
    "doc_freq=defaultdict(int)\n",
    "topic_to_user = defaultdict(set)\n",
    "\n",
    "for rid in train_trees:\n",
    "    tags = post_data[rid]['tags']\n",
    "    for pid in trees[rid]:\n",
    "        if post_data[pid]['user_id'] in chosen_uids:\n",
    "            title = post_data[pid]['title'] if post_data[pid]['title'] else ''\n",
    "            all_posts.append(title + ' '+post_data[pid]['text'])\n",
    "            flat_uids.append(post_data[pid]['user_id'])\n",
    "            all_tag_posts.append(' - '.join(tags))\n",
    "            all_te_posts.append( all_posts[-1]+' '+all_tag_posts[-1])\n",
    "            \n",
    "            if 'topics' not in user_data[post_data[pid]['user_id']]:\n",
    "                user_data[post_data[pid]['user_id']]['topics']=[]\n",
    "            user_data[post_data[pid]['user_id']]['topics']+=tags\n",
    "            for t in tags: topic_to_user[t].add(post_data[pid]['user_id'])\n",
    "            \n",
    "    for tag in post_data[rid]['tags']:\n",
    "        doc_freq[tag]+=1"
   ]
  },
  {
   "cell_type": "code",
   "execution_count": 86,
   "id": "worst-teacher",
   "metadata": {},
   "outputs": [],
   "source": [
    "tags_to_ignore = set([i[0] for i in sorted(doc_freq.items(), reverse=True, key=lambda x:x[1])[:1]])"
   ]
  },
  {
   "cell_type": "code",
   "execution_count": 87,
   "id": "electric-warrant",
   "metadata": {},
   "outputs": [],
   "source": [
    "for uid in chosen_uids:\n",
    "    tags =[]\n",
    "    for t in user_data[uid]['topics']: \n",
    "        if t not in tags_to_ignore: tags.append(t)\n",
    "\n",
    "    tag_freq = defaultdict(int)\n",
    "    for i in tags: tag_freq[i]+=1\n",
    "    total_freq = sum(tag_freq.values())\n",
    "    x = {i:[j/total_freq, j] for i,j in tag_freq.items()}\n",
    "    user_data[uid]['top_conf'] = x\n",
    "#     print(x)"
   ]
  },
  {
   "cell_type": "code",
   "execution_count": 37,
   "id": "involved-collar",
   "metadata": {},
   "outputs": [
    {
     "name": "stderr",
     "output_type": "stream",
     "text": [
      "Batches: 100%|███████████████████████████████████████████████████████████████████████████| 4/4 [00:02<00:00,  1.65it/s]\n"
     ]
    }
   ],
   "source": []
  },
  {
   "cell_type": "code",
   "execution_count": 14,
   "id": "focal-optics",
   "metadata": {},
   "outputs": [],
   "source": [
    "test_data = []\n",
    "gts=[]\n",
    "for i in test_trees:\n",
    "    gt=set()\n",
    "    for pid in trees[i]:\n",
    "        if post_data[pid]['user_id'] in chosen_uids: \n",
    "            gt.add(post_data[pid]['user_id'])\n",
    "    test_data.append([i,gt]) \n",
    "    gts.append(len(gt))"
   ]
  },
  {
   "cell_type": "code",
   "execution_count": 15,
   "id": "brown-black",
   "metadata": {},
   "outputs": [
    {
     "name": "stdout",
     "output_type": "stream",
     "text": [
      "Mean: 15.798336798336798\n",
      "Percentiles\n",
      "5 - 8\n",
      "25 - 11\n",
      "50 - 15\n",
      "75 - 19\n",
      "90 - 24\n",
      "99 - 37\n",
      "99.5 - 41\n",
      "99.7 - 41\n",
      "\n"
     ]
    }
   ],
   "source": [
    "get_stats(gts)"
   ]
  },
  {
   "cell_type": "code",
   "execution_count": 16,
   "id": "straight-lightning",
   "metadata": {},
   "outputs": [],
   "source": [
    "def get_recall(gt,pred,K):\n",
    "    return len( gt&pred )/ min(K,len(gt))"
   ]
  },
  {
   "cell_type": "code",
   "execution_count": 17,
   "id": "moderate-behalf",
   "metadata": {},
   "outputs": [
    {
     "name": "stderr",
     "output_type": "stream",
     "text": [
      "Batches: 100%|███████████████████████████████████████████████████████████████████████| 287/287 [02:15<00:00,  2.12it/s]\n"
     ]
    }
   ],
   "source": [
    "all_post_embeds = get_embeddings(all_posts, 'mpnet')"
   ]
  },
  {
   "cell_type": "code",
   "execution_count": 18,
   "id": "provincial-apollo",
   "metadata": {},
   "outputs": [
    {
     "name": "stderr",
     "output_type": "stream",
     "text": [
      "Batches: 100%|███████████████████████████████████████████████████████████████████████| 287/287 [00:26<00:00, 10.77it/s]\n"
     ]
    }
   ],
   "source": [
    "all_tag_embeds = get_embeddings(all_tag_posts, 'mpnet')"
   ]
  },
  {
   "cell_type": "code",
   "execution_count": 19,
   "id": "lovely-mixer",
   "metadata": {},
   "outputs": [
    {
     "name": "stderr",
     "output_type": "stream",
     "text": [
      "Batches: 100%|███████████████████████████████████████████████████████████████████████| 287/287 [02:20<00:00,  2.04it/s]\n"
     ]
    }
   ],
   "source": [
    "all_te_embeds = get_embeddings(all_te_posts, 'mpnet')"
   ]
  },
  {
   "cell_type": "code",
   "execution_count": 29,
   "id": "impressive-eclipse",
   "metadata": {
    "scrolled": true
   },
   "outputs": [
    {
     "data": {
      "text/plain": [
       "(36624, 768)"
      ]
     },
     "execution_count": 29,
     "metadata": {},
     "output_type": "execute_result"
    }
   ],
   "source": [
    "all_te_embeds.shape"
   ]
  },
  {
   "cell_type": "code",
   "execution_count": 39,
   "id": "excess-damages",
   "metadata": {},
   "outputs": [],
   "source": [
    "random.seed(0)\n",
    "rand_te = random.sample([i[0] for i in test_data],20)"
   ]
  },
  {
   "cell_type": "code",
   "execution_count": 24,
   "id": "hearing-exhaust",
   "metadata": {},
   "outputs": [],
   "source": [
    "def get_contributors(query, tr_embeds):\n",
    "#     print(query)\n",
    "#     print()\n",
    "    qemb = get_embeddings(query, 'mpnet', progress=False)\n",
    "    cosines = cos_sim(qemb, tr_embeds)[0]\n",
    "    argort = (-cosines).argsort()\n",
    "    done=set()\n",
    "    users = []\n",
    "    docs=[]\n",
    "    for i in argort:\n",
    "        if flat_uids[i] in done: continue\n",
    "        else:\n",
    "#             print(flat_uids[i],' - ', all_tag_posts[i])\n",
    "#             print('-')\n",
    "            users.append(flat_uids[i]); done.add(flat_uids[i])\n",
    "#     input()\n",
    "    return users"
   ]
  },
  {
   "cell_type": "code",
   "execution_count": 51,
   "id": "sensitive-approach",
   "metadata": {},
   "outputs": [
    {
     "name": "stderr",
     "output_type": "stream",
     "text": [
      "100%|██████████████████████████████████████████████████████████████████████████████| 481/481 [00:00<00:00, 3844.11it/s]\n"
     ]
    },
    {
     "data": {
      "text/plain": [
       "(0.1527984027984028, 0.18286816440841205, 0.23752279718906136)"
      ]
     },
     "execution_count": 51,
     "metadata": {},
     "output_type": "execute_result"
    }
   ],
   "source": [
    "rec = []\n",
    "# post_preds = []\n",
    "K=[10,20,30]\n",
    "for idx,[pid,gt] in enumerate(tqdm(test_data)):\n",
    "#     if not post_data[pid]['tags']: continue\n",
    "#     tags = ' - '.join(set(post_data[pid]['tags']))\n",
    "#     text = post_data[pid]['title']+' '+post_data[pid]['text']\n",
    "#     text = text# + ' ' + tags\n",
    "#     pred = get_contributors(tags,all_tag_embeds)\n",
    "# #     post_preds.append(pred)\n",
    "    done=set()\n",
    "    pred=[]\n",
    "    for i,j in zip(te_preds[idx], post_preds[idx]):\n",
    "        if j not in done: pred.append(j); done.add(j)\n",
    "        if i not in done: pred.append(i); done.add(i)\n",
    "        \n",
    "    row=[]\n",
    "    for k in K:\n",
    "        row.append( len( gt&set(pred[:k]) )/ min(k,len(gt)) )\n",
    "    rec.append(row)\n",
    "#     print('-'*50)\n",
    "rec=np.array(rec)\n",
    "np.mean(rec[:,0]),np.mean(rec[:,1]),np.mean(rec[:,2])"
   ]
  },
  {
   "cell_type": "code",
   "execution_count": 44,
   "id": "processed-attendance",
   "metadata": {},
   "outputs": [
    {
     "data": {
      "text/plain": [
       "(481, 481)"
      ]
     },
     "execution_count": 44,
     "metadata": {},
     "output_type": "execute_result"
    }
   ],
   "source": [
    "len(te_preds),len(post_preds)"
   ]
  },
  {
   "cell_type": "code",
   "execution_count": null,
   "id": "arabic-puppy",
   "metadata": {},
   "outputs": [],
   "source": []
  },
  {
   "cell_type": "code",
   "execution_count": 52,
   "id": "rational-subsection",
   "metadata": {},
   "outputs": [],
   "source": [
    "all_uids = [i for i in chosen_uids]\n",
    "all_user_topics = [' - '.join(user_data[i]['topics']) for i in chosen_uids]"
   ]
  },
  {
   "cell_type": "code",
   "execution_count": 53,
   "id": "mature-audit",
   "metadata": {},
   "outputs": [
    {
     "name": "stderr",
     "output_type": "stream",
     "text": [
      "Batches: 100%|███████████████████████████████████████████████████████████████████████████| 5/5 [00:02<00:00,  2.05it/s]\n"
     ]
    }
   ],
   "source": [
    "all_user_top_embs = get_embeddings(all_user_topics, 'mpnet')"
   ]
  },
  {
   "cell_type": "code",
   "execution_count": 54,
   "id": "exciting-reward",
   "metadata": {},
   "outputs": [
    {
     "data": {
      "text/plain": [
       "(552, 768)"
      ]
     },
     "execution_count": 54,
     "metadata": {},
     "output_type": "execute_result"
    }
   ],
   "source": [
    "all_user_top_embs.shape"
   ]
  },
  {
   "cell_type": "code",
   "execution_count": 51,
   "id": "dressed-coast",
   "metadata": {},
   "outputs": [],
   "source": [
    "def get_contributors_tt(query, tr_embeds, k=10, qtopics=None):\n",
    "    print(query)\n",
    "    print()\n",
    "    qemb = get_embeddings(query, 'mpnet', False)\n",
    "\n",
    "    cosines = cos_sim(qemb, tr_embeds)[0]\n",
    "    argsort = (-cosines).argsort()\n",
    "    for i in argsort[:k]:\n",
    "        print(all_uids[i],all_user_topics[i])\n",
    "        print('-')\n",
    "\n",
    "    input()\n",
    "    return set([all_uids[i] for i in argsort[:k]])"
   ]
  },
  {
   "cell_type": "code",
   "execution_count": 52,
   "id": "deluxe-cherry",
   "metadata": {
    "collapsed": true
   },
   "outputs": [
    {
     "name": "stderr",
     "output_type": "stream",
     "text": [
      "\r",
      "  0%|                                                                                                   | 0/481 [00:00<?, ?it/s]"
     ]
    },
    {
     "name": "stdout",
     "output_type": "stream",
     "text": [
      "united-states - religion - canada - discrimination - conflict-of-interest\n",
      "\n",
      "27691 israel - honors - crime - gender - climate-change - canada - united-states - donald-trump - discrimination - racism - armed-conflict - trade - international - guns - international-law - democracy - communism - european-union - russian-federation - trump-impeachment - election - germany - international-court - religion - gender-neutrality - presidential-election - political-transitions\n",
      "-\n",
      "8751 international-relations - south-korea - government - discrimination - brexit - china - policy - international-law - european-union - history - affordable-care-act - parties - campaign-finance - public-health - boris-johnson - public-safety - gender - north-america - vaccine - canada - debate - health-insurance - donald-trump - political-theory - article-50 - republican-party - north-korea - monarchy - privacy - nationalism - stimulus - coup - senate - immigration - healthcare - identity-document - united-kingdom - president - parliament - scotland - plurality-voting-system - rhetoric - judiciary - republic-of-ireland - citizenship - postal-service - polarization - commonwealth - public-sector-compensation - election - india - lgbt+ - social-media - europe - espionage - voting-systems - minimum-wage - election-requirements - capitalism - law - asylum - united-states - congress - northern-ireland - socialism - armed-conflict - conservatism - comparative-politics - international - sanctions - referendum - constitutional-monarchy - russian-federation - prorogation - environmental-policy - economy - theresa-may - legislative-process - presidential-election - covid-19\n",
      "-\n",
      "7406 supreme-court - international-relations - government - gdp - civil-war - taliban - brexit - policy - middle-east - languages - european-union - united-nations - affordable-care-act - sovereignty - internet - human-trafficking - gender-neutrality - parties - campaign-finance - presidential-term - gender - cold-war - canada - debate - donald-trump - conspiracy-theories - trade - taxes - political-appointments - republican-party - ideology - north-korea - basic-income - nato - voting - impeachment - philippines - immigration - nuclear-weapons - healthcare - public-opinion - vote-by-mail - united-kingdom - democratic-party - president - iran - weapons - local-government - political-leaders - ukraine - military - us-state-laws - western-world - public-sector-compensation - statehood - election - lgbt+ - social-media - social-welfare - twitter - secession - iraq - minimum-wage - afghanistan - net-neutrality - law - united-states - congress - northern-ireland - strategic-ambiguity - armed-conflict - republican-primary - constitution - international - nazism - sanctions - electoral-college - na-po-vo-inter-co - subsidies - russian-federation - demographics - economy - presidential-election - covid-19\n",
      "-\n",
      "18670 democratic-party - international-relations - israel - public-health - iran - weapons - gaza - parliament - liberalism - local-government - power-sharing - vladimir-putin - nord-stream - minorities - genocide - ukraine - freedom-of-religion - law - soviet-union - military - debate - united-states - christianity - canada - economy - conspiracy-theories - propaganda - freedom-of-speech - donald-trump - social-class - housing - socialism - armed-conflict - currency - territory - geopolitics - western-world - china - policy - international - political-system - comparative-politics - gas - ideology - berlin - constitutional-monarchy - north-korea - monarchy - commonwealth - democracy - nato - languages - japan - european-union - communism - police - terminology - russian-federation - energy-policy - nuclear-energy - hamas - philippines - germany - palestine - immigration - european-commission - social-media - territorial-dispute - europe - nuclear-weapons - vaccine - religion - media - power - public-opinion - covid-19\n",
      "-\n",
      "7887 supreme-court - international-relations - minorities - civil-war - brexit - china - international-law - finance - middle-east - languages - european-union - sweden - history - state-of-emergency - international-court - succession - boris-johnson - partition - crime - cold-war - canada - dictatorship - debate - health-insurance - donald-trump - spain - political-theory - pensions - social-politics - privatization - housing - public-administration - legislature - taxes - guns - ideology - libertarianism - democracy - monarchy - basic-income - nato - police - voting - impeachment - immigration - germany - nuclear-weapons - healthcare - public-opinion - vote-by-mail - united-kingdom - society - chemical-weapons - weapons - parliament - ukraine - military - cession - corporations - plurality-voting-system - syria - employment - republic-of-ireland - echr - second-amendment - finland - populism - catalonia - terrorism - election - social-welfare - europe - london - secession - crimea - debt - european-parliament - voting-systems - climate-change - afghanistan - summary-request - capitalism - law - united-states - congress - northern-ireland - freedom-of-speech - fishing - armed-conflict - socialism - public-funding - constitution - comparative-politics - international - treaty - referendum - communism - brexit-party - denmark - terminology - russian-federation - subsidies - new-zealand - war-crime - judicial-independence - statistics - prorogation - hillary-clinton - demographics - financial-crisis - economy - legislative-process - presidential-election\n",
      "-\n",
      "15531 international-relations - discrimination - mitch-mcconnell - brexit - policy - china - first-past-the-post - international-law - venezuela - japan - european-union - history - pardon - international-court - gender-neutrality - presidential-term - boris-johnson - foreign-policy - gender - borders - canada - donald-trump - spain - political-theory - public-administration - transportation - house-of-representatives - taxes - separation-of-powers - north-korea - privacy - nato - rule-of-law - impeachment - nationalism - legislation - house-of-commons - united-kingdom - world-war-ii - president - italy - ukraine - military - corporations - racism - judiciary - republic-of-ireland - poland - citizenship - catalonia - trump-impeachment - cuba - lgbt+ - social-media - europe - rules-of-war - secession - prime-minister - honors - voting-systems - climate-change - election-requirements - summary-request - law - asylum - united-states - northern-ireland - congress - ireland - freedom-of-speech - nobel-peace-prize - armed-conflict - gerrymandering - conservatism - comparative-politics - international - identity-politics - fake-news - sanctions - treaty - communism - russian-federation - property - war-crime - france - environmental-policy - refugees - economy - theresa-may - covid-19\n",
      "-\n",
      "13162 international-relations - government - mueller-investigation - policy - international-law - finance - human-rights - japan - european-union - jerusalem - drugs - nationalization - affordable-care-act - internet - lobbying - freedom-of-movement - gender-neutrality - parties - israel - foreign-policy - crime - vladimir-putin - gender - canada - dictatorship - health-insurance - donald-trump - political-theory - pensions - transportation - trump-wall - taxes - guns - republican-party - separation-of-powers - ideology - nato - voting - impeachment - nationalism - legislation - germany - central-bank - government-shutdown - media - christian-right - healthcare - public-opinion - islamic-state - united-kingdom - chemical-weapons - president - italy - genocide - ukraine - military - racism - syria - western-world - populism - civil-rights - terrorism - trump-impeachment - election - political-spectrum - lgbt+ - europe - sustainable-development - rules-of-war - religion - procedure - ethics - climate-change - election-requirements - political-research - net-neutrality - capitalism - law - united-states - congress - propaganda - population - socialism - armed-conflict - conservatism - geopolitics - constitution - fake-news - contested-election - bernie-sanders - greenland - dnc - communism - terminology - russian-federation - demographics - economy - presidential-election\n",
      "-\n",
      "1804 supreme-court - international-relations - government - discrimination - military-law - historiography - brexit - china - policy - political-system - international-law - head-of-state - japan - history - drugs - inequality - united-nations - gender-neutrality - parties - succession - abortion - income - israel - gender - crime - donald-trump - conspiracy-theories - political-theory - housing - republican-party - separation-of-powers - ideology - monarchy - voting - germany - nuclear-weapons - washington-dc - media - healthcare - identity-document - vote-by-mail - united-kingdom - society - democratic-party - world-war-ii - president - political-leaders - ukraine - military - racism - cannabis-legalization - judiciary - western-world - postal-service - civil-rights - public-sector-compensation - election - reparations - social-media - social-welfare - europe - sustainable-development - religion - technology - capitalism - united-states - socialism - currency - conservatism - constitution - comparative-politics - international - identity-politics - bernie-sanders - electoral-college - subsidies - russian-federation - terminology - slavery - palestine - education - arizona - economy - presidential-election - covid-19\n",
      "-\n",
      "11278 supreme-court - international-relations - government - public-holidays - civil-war - anarcho-capitalism - science - brexit - china - policy - first-past-the-post - head-of-state - languages - european-union - jerusalem - sweden - history - election-fraud - freedom-of-movement - gender-neutrality - parties - israel - presidential-term - prison - gender - vladimir-putin - canada - dictatorship - donald-trump - monopoly-on-violence - sports - pensions - alexei-navalny - authority - housing - transportation - symbols - trade - taxes - political-appointments - article-50 - berlin - ideology - north-korea - democracy - monarchy - nato - opec - police - voting - impeachment - anarchism - foreign-interference - coup - germany - senate - nuclear-weapons - media - healthcare - identity-document - united-kingdom - world-war-ii - corruption - president - italy - weapons - parliament - assassinations - local-government - oil - political-leaders - ukraine - military - energy-independence - islam - western-world - retirement - gas - finland - city-planning - civil-rights - voter-turnout - budget - ngos - terrorism - energy-policy - election - nuclear-energy - lgbt+ - social-media - europe - sustainable-development - religion - debt - saudi-arabia - espionage - voting-systems - minimum-wage - climate-change - capitalism - law - united-states - freedom-of-speech - socialism - armed-conflict - gerrymandering - currency - conservatism - comparative-politics - international - nazism - sanctions - referendum - communism - terminology - russian-federation - france - statistics - prorogation - environmental-policy - ranked-choice-voting - economy - presidential-election - covid-19\n",
      "-\n",
      "5407 income - international-relations - israel - president - iran - gender - voting-systems - climate-change - military - canada - united-states - congress - donald-trump - debate - political-theory - prostitution - racism - rhetoric - conservatism - geopolitics - islam - filibuster - political-system - policy - international - copyright - guns - paris-agreement - republican-party - international-law - electoral-college - ideology - jcpoa - civil-rights - democracy - nato - impeachment - nationalism - terminology - russian-federation - nuclear-energy - jerusalem - election - palestine - territorial-dispute - nuclear-weapons - europe - inequality - affordable-care-act - presidential-election - intellectual-property - parties - united-kingdom\n",
      "-\n"
     ]
    },
    {
     "name": "stderr",
     "output_type": "stream",
     "text": [
      "  0%|                                                                                                   | 0/481 [11:10<?, ?it/s]\n"
     ]
    },
    {
     "data": {
      "text/html": [
       "<pre style=\"white-space:pre;overflow-x:auto;line-height:normal;font-family:Menlo,'DejaVu Sans Mono',consolas,'Courier New',monospace\"><span style=\"color: #800000; text-decoration-color: #800000\">╭─────────────────────────────── </span><span style=\"color: #800000; text-decoration-color: #800000; font-weight: bold\">Traceback </span><span style=\"color: #bf7f7f; text-decoration-color: #bf7f7f; font-weight: bold\">(most recent call last)</span><span style=\"color: #800000; text-decoration-color: #800000\"> ────────────────────────────────╮</span>\n",
       "<span style=\"color: #800000; text-decoration-color: #800000\">│</span> <span style=\"color: #bfbf7f; text-decoration-color: #bfbf7f\">/tmp/ipykernel_5823/</span><span style=\"color: #808000; text-decoration-color: #808000; font-weight: bold\">503354920.py</span>:<span style=\"color: #0000ff; text-decoration-color: #0000ff\">6</span> in <span style=\"color: #00ff00; text-decoration-color: #00ff00\">&lt;cell line: 3&gt;</span>                                             <span style=\"color: #800000; text-decoration-color: #800000\">│</span>\n",
       "<span style=\"color: #800000; text-decoration-color: #800000\">│</span>                                                                                                  <span style=\"color: #800000; text-decoration-color: #800000\">│</span>\n",
       "<span style=\"color: #800000; text-decoration-color: #800000\">│</span> <span style=\"color: #800000; text-decoration-color: #800000; font-style: italic\">[Errno 2] No such file or directory: '/tmp/ipykernel_5823/503354920.py'</span>                          <span style=\"color: #800000; text-decoration-color: #800000\">│</span>\n",
       "<span style=\"color: #800000; text-decoration-color: #800000\">│</span>                                                                                                  <span style=\"color: #800000; text-decoration-color: #800000\">│</span>\n",
       "<span style=\"color: #800000; text-decoration-color: #800000\">│</span> <span style=\"color: #bfbf7f; text-decoration-color: #bfbf7f\">/tmp/ipykernel_5823/</span><span style=\"color: #808000; text-decoration-color: #808000; font-weight: bold\">965160605.py</span>:<span style=\"color: #0000ff; text-decoration-color: #0000ff\">12</span> in <span style=\"color: #00ff00; text-decoration-color: #00ff00\">get_contributors_tt</span>                                       <span style=\"color: #800000; text-decoration-color: #800000\">│</span>\n",
       "<span style=\"color: #800000; text-decoration-color: #800000\">│</span>                                                                                                  <span style=\"color: #800000; text-decoration-color: #800000\">│</span>\n",
       "<span style=\"color: #800000; text-decoration-color: #800000\">│</span> <span style=\"color: #800000; text-decoration-color: #800000; font-style: italic\">[Errno 2] No such file or directory: '/tmp/ipykernel_5823/965160605.py'</span>                          <span style=\"color: #800000; text-decoration-color: #800000\">│</span>\n",
       "<span style=\"color: #800000; text-decoration-color: #800000\">│</span>                                                                                                  <span style=\"color: #800000; text-decoration-color: #800000\">│</span>\n",
       "<span style=\"color: #800000; text-decoration-color: #800000\">│</span> <span style=\"color: #bfbf7f; text-decoration-color: #bfbf7f\">/home/nirmal/miniconda3/envs/OPT/lib/python3.8/site-packages/ipykernel/</span><span style=\"color: #808000; text-decoration-color: #808000; font-weight: bold\">kernelbase.py</span>:<span style=\"color: #0000ff; text-decoration-color: #0000ff\">1075</span> in     <span style=\"color: #800000; text-decoration-color: #800000\">│</span>\n",
       "<span style=\"color: #800000; text-decoration-color: #800000\">│</span> <span style=\"color: #00ff00; text-decoration-color: #00ff00\">raw_input</span>                                                                                        <span style=\"color: #800000; text-decoration-color: #800000\">│</span>\n",
       "<span style=\"color: #800000; text-decoration-color: #800000\">│</span>                                                                                                  <span style=\"color: #800000; text-decoration-color: #800000\">│</span>\n",
       "<span style=\"color: #800000; text-decoration-color: #800000\">│</span>   <span style=\"color: #7f7f7f; text-decoration-color: #7f7f7f\">1072 │   │   │   </span><span style=\"color: #0000ff; text-decoration-color: #0000ff\">raise</span> StdinNotImplementedError(                                               <span style=\"color: #800000; text-decoration-color: #800000\">│</span>\n",
       "<span style=\"color: #800000; text-decoration-color: #800000\">│</span>   <span style=\"color: #7f7f7f; text-decoration-color: #7f7f7f\">1073 │   │   │   │   </span><span style=\"color: #808000; text-decoration-color: #808000\">\"raw_input was called, but this frontend does not support input requests</span>  <span style=\"color: #800000; text-decoration-color: #800000\">│</span>\n",
       "<span style=\"color: #800000; text-decoration-color: #800000\">│</span>   <span style=\"color: #7f7f7f; text-decoration-color: #7f7f7f\">1074 │   │   │   </span>)                                                                             <span style=\"color: #800000; text-decoration-color: #800000\">│</span>\n",
       "<span style=\"color: #800000; text-decoration-color: #800000\">│</span> <span style=\"color: #800000; text-decoration-color: #800000\">❱ </span>1075 <span style=\"color: #7f7f7f; text-decoration-color: #7f7f7f\">│   │   </span><span style=\"color: #0000ff; text-decoration-color: #0000ff\">return</span> <span style=\"color: #00ffff; text-decoration-color: #00ffff\">self</span>._input_request(                                                       <span style=\"color: #800000; text-decoration-color: #800000\">│</span>\n",
       "<span style=\"color: #800000; text-decoration-color: #800000\">│</span>   <span style=\"color: #7f7f7f; text-decoration-color: #7f7f7f\">1076 │   │   │   </span><span style=\"color: #00ffff; text-decoration-color: #00ffff\">str</span>(prompt),                                                                  <span style=\"color: #800000; text-decoration-color: #800000\">│</span>\n",
       "<span style=\"color: #800000; text-decoration-color: #800000\">│</span>   <span style=\"color: #7f7f7f; text-decoration-color: #7f7f7f\">1077 │   │   │   </span><span style=\"color: #00ffff; text-decoration-color: #00ffff\">self</span>._parent_ident[<span style=\"color: #808000; text-decoration-color: #808000\">\"shell\"</span>],                                                  <span style=\"color: #800000; text-decoration-color: #800000\">│</span>\n",
       "<span style=\"color: #800000; text-decoration-color: #800000\">│</span>   <span style=\"color: #7f7f7f; text-decoration-color: #7f7f7f\">1078 │   │   │   </span><span style=\"color: #00ffff; text-decoration-color: #00ffff\">self</span>.get_parent(<span style=\"color: #808000; text-decoration-color: #808000\">\"shell\"</span>),                                                     <span style=\"color: #800000; text-decoration-color: #800000\">│</span>\n",
       "<span style=\"color: #800000; text-decoration-color: #800000\">│</span>                                                                                                  <span style=\"color: #800000; text-decoration-color: #800000\">│</span>\n",
       "<span style=\"color: #800000; text-decoration-color: #800000\">│</span> <span style=\"color: #bfbf7f; text-decoration-color: #bfbf7f\">/home/nirmal/miniconda3/envs/OPT/lib/python3.8/site-packages/ipykernel/</span><span style=\"color: #808000; text-decoration-color: #808000; font-weight: bold\">kernelbase.py</span>:<span style=\"color: #0000ff; text-decoration-color: #0000ff\">1120</span> in     <span style=\"color: #800000; text-decoration-color: #800000\">│</span>\n",
       "<span style=\"color: #800000; text-decoration-color: #800000\">│</span> <span style=\"color: #00ff00; text-decoration-color: #00ff00\">_input_request</span>                                                                                   <span style=\"color: #800000; text-decoration-color: #800000\">│</span>\n",
       "<span style=\"color: #800000; text-decoration-color: #800000\">│</span>                                                                                                  <span style=\"color: #800000; text-decoration-color: #800000\">│</span>\n",
       "<span style=\"color: #800000; text-decoration-color: #800000\">│</span>   <span style=\"color: #7f7f7f; text-decoration-color: #7f7f7f\">1117 │   │   │   │   │   │   </span><span style=\"color: #0000ff; text-decoration-color: #0000ff\">break</span>                                                             <span style=\"color: #800000; text-decoration-color: #800000\">│</span>\n",
       "<span style=\"color: #800000; text-decoration-color: #800000\">│</span>   <span style=\"color: #7f7f7f; text-decoration-color: #7f7f7f\">1118 │   │   │   </span><span style=\"color: #0000ff; text-decoration-color: #0000ff\">except</span> <span style=\"color: #00ffff; text-decoration-color: #00ffff\">KeyboardInterrupt</span>:                                                     <span style=\"color: #800000; text-decoration-color: #800000\">│</span>\n",
       "<span style=\"color: #800000; text-decoration-color: #800000\">│</span>   <span style=\"color: #7f7f7f; text-decoration-color: #7f7f7f\">1119 │   │   │   │   # re-raise KeyboardInterrupt, to truncate traceback</span>                       <span style=\"color: #800000; text-decoration-color: #800000\">│</span>\n",
       "<span style=\"color: #800000; text-decoration-color: #800000\">│</span> <span style=\"color: #800000; text-decoration-color: #800000\">❱ </span>1120 <span style=\"color: #7f7f7f; text-decoration-color: #7f7f7f\">│   │   │   │   </span><span style=\"color: #0000ff; text-decoration-color: #0000ff\">raise</span> <span style=\"color: #00ffff; text-decoration-color: #00ffff\">KeyboardInterrupt</span>(<span style=\"color: #808000; text-decoration-color: #808000\">\"Interrupted by user\"</span>) <span style=\"color: #0000ff; text-decoration-color: #0000ff\">from</span> <span style=\"color: #00ffff; text-decoration-color: #00ffff\">None</span>                  <span style=\"color: #800000; text-decoration-color: #800000\">│</span>\n",
       "<span style=\"color: #800000; text-decoration-color: #800000\">│</span>   <span style=\"color: #7f7f7f; text-decoration-color: #7f7f7f\">1121 │   │   │   </span><span style=\"color: #0000ff; text-decoration-color: #0000ff\">except</span> <span style=\"color: #00ffff; text-decoration-color: #00ffff\">Exception</span>:                                                             <span style=\"color: #800000; text-decoration-color: #800000\">│</span>\n",
       "<span style=\"color: #800000; text-decoration-color: #800000\">│</span>   <span style=\"color: #7f7f7f; text-decoration-color: #7f7f7f\">1122 │   │   │   │   </span><span style=\"color: #00ffff; text-decoration-color: #00ffff\">self</span>.log.warning(<span style=\"color: #808000; text-decoration-color: #808000\">\"Invalid Message:\"</span>, exc_info=<span style=\"color: #0000ff; text-decoration-color: #0000ff\">True</span>)                       <span style=\"color: #800000; text-decoration-color: #800000\">│</span>\n",
       "<span style=\"color: #800000; text-decoration-color: #800000\">│</span>   <span style=\"color: #7f7f7f; text-decoration-color: #7f7f7f\">1123 </span>                                                                                          <span style=\"color: #800000; text-decoration-color: #800000\">│</span>\n",
       "<span style=\"color: #800000; text-decoration-color: #800000\">╰──────────────────────────────────────────────────────────────────────────────────────────────────╯</span>\n",
       "<span style=\"color: #ff0000; text-decoration-color: #ff0000; font-weight: bold\">KeyboardInterrupt: </span>Interrupted by user\n",
       "</pre>\n"
      ],
      "text/plain": [
       "\u001b[31m╭─\u001b[0m\u001b[31m──────────────────────────────\u001b[0m\u001b[31m \u001b[0m\u001b[1;31mTraceback \u001b[0m\u001b[1;2;31m(most recent call last)\u001b[0m\u001b[31m \u001b[0m\u001b[31m───────────────────────────────\u001b[0m\u001b[31m─╮\u001b[0m\n",
       "\u001b[31m│\u001b[0m \u001b[2;33m/tmp/ipykernel_5823/\u001b[0m\u001b[1;33m503354920.py\u001b[0m:\u001b[94m6\u001b[0m in \u001b[92m<cell line: 3>\u001b[0m                                             \u001b[31m│\u001b[0m\n",
       "\u001b[31m│\u001b[0m                                                                                                  \u001b[31m│\u001b[0m\n",
       "\u001b[31m│\u001b[0m \u001b[3;31m[Errno 2] No such file or directory: '/tmp/ipykernel_5823/503354920.py'\u001b[0m                          \u001b[31m│\u001b[0m\n",
       "\u001b[31m│\u001b[0m                                                                                                  \u001b[31m│\u001b[0m\n",
       "\u001b[31m│\u001b[0m \u001b[2;33m/tmp/ipykernel_5823/\u001b[0m\u001b[1;33m965160605.py\u001b[0m:\u001b[94m12\u001b[0m in \u001b[92mget_contributors_tt\u001b[0m                                       \u001b[31m│\u001b[0m\n",
       "\u001b[31m│\u001b[0m                                                                                                  \u001b[31m│\u001b[0m\n",
       "\u001b[31m│\u001b[0m \u001b[3;31m[Errno 2] No such file or directory: '/tmp/ipykernel_5823/965160605.py'\u001b[0m                          \u001b[31m│\u001b[0m\n",
       "\u001b[31m│\u001b[0m                                                                                                  \u001b[31m│\u001b[0m\n",
       "\u001b[31m│\u001b[0m \u001b[2;33m/home/nirmal/miniconda3/envs/OPT/lib/python3.8/site-packages/ipykernel/\u001b[0m\u001b[1;33mkernelbase.py\u001b[0m:\u001b[94m1075\u001b[0m in     \u001b[31m│\u001b[0m\n",
       "\u001b[31m│\u001b[0m \u001b[92mraw_input\u001b[0m                                                                                        \u001b[31m│\u001b[0m\n",
       "\u001b[31m│\u001b[0m                                                                                                  \u001b[31m│\u001b[0m\n",
       "\u001b[31m│\u001b[0m   \u001b[2m1072 \u001b[0m\u001b[2m│   │   │   \u001b[0m\u001b[94mraise\u001b[0m StdinNotImplementedError(                                               \u001b[31m│\u001b[0m\n",
       "\u001b[31m│\u001b[0m   \u001b[2m1073 \u001b[0m\u001b[2m│   │   │   │   \u001b[0m\u001b[33m\"\u001b[0m\u001b[33mraw_input was called, but this frontend does not support input requests\u001b[0m  \u001b[31m│\u001b[0m\n",
       "\u001b[31m│\u001b[0m   \u001b[2m1074 \u001b[0m\u001b[2m│   │   │   \u001b[0m)                                                                             \u001b[31m│\u001b[0m\n",
       "\u001b[31m│\u001b[0m \u001b[31m❱ \u001b[0m1075 \u001b[2m│   │   \u001b[0m\u001b[94mreturn\u001b[0m \u001b[96mself\u001b[0m._input_request(                                                       \u001b[31m│\u001b[0m\n",
       "\u001b[31m│\u001b[0m   \u001b[2m1076 \u001b[0m\u001b[2m│   │   │   \u001b[0m\u001b[96mstr\u001b[0m(prompt),                                                                  \u001b[31m│\u001b[0m\n",
       "\u001b[31m│\u001b[0m   \u001b[2m1077 \u001b[0m\u001b[2m│   │   │   \u001b[0m\u001b[96mself\u001b[0m._parent_ident[\u001b[33m\"\u001b[0m\u001b[33mshell\u001b[0m\u001b[33m\"\u001b[0m],                                                  \u001b[31m│\u001b[0m\n",
       "\u001b[31m│\u001b[0m   \u001b[2m1078 \u001b[0m\u001b[2m│   │   │   \u001b[0m\u001b[96mself\u001b[0m.get_parent(\u001b[33m\"\u001b[0m\u001b[33mshell\u001b[0m\u001b[33m\"\u001b[0m),                                                     \u001b[31m│\u001b[0m\n",
       "\u001b[31m│\u001b[0m                                                                                                  \u001b[31m│\u001b[0m\n",
       "\u001b[31m│\u001b[0m \u001b[2;33m/home/nirmal/miniconda3/envs/OPT/lib/python3.8/site-packages/ipykernel/\u001b[0m\u001b[1;33mkernelbase.py\u001b[0m:\u001b[94m1120\u001b[0m in     \u001b[31m│\u001b[0m\n",
       "\u001b[31m│\u001b[0m \u001b[92m_input_request\u001b[0m                                                                                   \u001b[31m│\u001b[0m\n",
       "\u001b[31m│\u001b[0m                                                                                                  \u001b[31m│\u001b[0m\n",
       "\u001b[31m│\u001b[0m   \u001b[2m1117 \u001b[0m\u001b[2m│   │   │   │   │   │   \u001b[0m\u001b[94mbreak\u001b[0m                                                             \u001b[31m│\u001b[0m\n",
       "\u001b[31m│\u001b[0m   \u001b[2m1118 \u001b[0m\u001b[2m│   │   │   \u001b[0m\u001b[94mexcept\u001b[0m \u001b[96mKeyboardInterrupt\u001b[0m:                                                     \u001b[31m│\u001b[0m\n",
       "\u001b[31m│\u001b[0m   \u001b[2m1119 \u001b[0m\u001b[2m│   │   │   │   \u001b[0m\u001b[2m# re-raise KeyboardInterrupt, to truncate traceback\u001b[0m                       \u001b[31m│\u001b[0m\n",
       "\u001b[31m│\u001b[0m \u001b[31m❱ \u001b[0m1120 \u001b[2m│   │   │   │   \u001b[0m\u001b[94mraise\u001b[0m \u001b[96mKeyboardInterrupt\u001b[0m(\u001b[33m\"\u001b[0m\u001b[33mInterrupted by user\u001b[0m\u001b[33m\"\u001b[0m) \u001b[94mfrom\u001b[0m \u001b[96mNone\u001b[0m                  \u001b[31m│\u001b[0m\n",
       "\u001b[31m│\u001b[0m   \u001b[2m1121 \u001b[0m\u001b[2m│   │   │   \u001b[0m\u001b[94mexcept\u001b[0m \u001b[96mException\u001b[0m:                                                             \u001b[31m│\u001b[0m\n",
       "\u001b[31m│\u001b[0m   \u001b[2m1122 \u001b[0m\u001b[2m│   │   │   │   \u001b[0m\u001b[96mself\u001b[0m.log.warning(\u001b[33m\"\u001b[0m\u001b[33mInvalid Message:\u001b[0m\u001b[33m\"\u001b[0m, exc_info=\u001b[94mTrue\u001b[0m)                       \u001b[31m│\u001b[0m\n",
       "\u001b[31m│\u001b[0m   \u001b[2m1123 \u001b[0m                                                                                          \u001b[31m│\u001b[0m\n",
       "\u001b[31m╰──────────────────────────────────────────────────────────────────────────────────────────────────╯\u001b[0m\n",
       "\u001b[1;91mKeyboardInterrupt: \u001b[0mInterrupted by user\n"
      ]
     },
     "metadata": {},
     "output_type": "display_data"
    }
   ],
   "source": [
    "rec = []\n",
    "K=10\n",
    "for pid,gt in tqdm(test_data):\n",
    "    if not post_data[pid]['tags']: continue\n",
    "    tags = ' - '.join(post_data[pid]['tags'])\n",
    "    pred = get_contributors_tt(tags,all_user_top_embs,K)\n",
    "    rec.append( len( gt&pred )/ min(K,len(gt)) )\n",
    "#     break\n",
    "np.mean(rec)"
   ]
  },
  {
   "cell_type": "code",
   "execution_count": 48,
   "id": "designing-fisher",
   "metadata": {},
   "outputs": [
    {
     "data": {
      "text/plain": [
       "'united-states - religion - canada - discrimination - conflict-of-interest'"
      ]
     },
     "execution_count": 48,
     "metadata": {},
     "output_type": "execute_result"
    }
   ],
   "source": [
    "tags"
   ]
  },
  {
   "cell_type": "code",
   "execution_count": 56,
   "id": "protecting-authorization",
   "metadata": {},
   "outputs": [],
   "source": [
    "import itertools"
   ]
  },
  {
   "cell_type": "code",
   "execution_count": 54,
   "id": "blocked-folder",
   "metadata": {},
   "outputs": [],
   "source": [
    "tops = all_user_topics[12].split(' - ')"
   ]
  },
  {
   "cell_type": "code",
   "execution_count": null,
   "id": "earlier-pregnancy",
   "metadata": {},
   "outputs": [],
   "source": [
    "a = list(itertools.permutations(tops))"
   ]
  },
  {
   "cell_type": "code",
   "execution_count": null,
   "id": "numeric-constraint",
   "metadata": {},
   "outputs": [],
   "source": []
  },
  {
   "cell_type": "code",
   "execution_count": 55,
   "id": "referenced-economics",
   "metadata": {},
   "outputs": [
    {
     "name": "stderr",
     "output_type": "stream",
     "text": [
      "Batches: 100%|███████████████████████████████████████████████████████████████████████████| 4/4 [00:00<00:00, 16.26it/s]\n"
     ]
    }
   ],
   "source": [
    "all_topics = list(set(doc_freq.keys())-tags_to_ignore)\n",
    "all_topics_emb = get_embeddings(all_topics, 'mpnet')"
   ]
  },
  {
   "cell_type": "code",
   "execution_count": 73,
   "id": "centered-keyboard",
   "metadata": {},
   "outputs": [],
   "source": [
    "def get_contrib_usr_ind_tt(query, K, qtopics, gt):\n",
    "    qtopics = [i for i in qtopics if i[0] not in topics_to_ignore]\n",
    "    if not qtopics:\n",
    "        qtopics\n",
    "    total = 0\n",
    "    argsorts = []\n",
    "    df=[]\n",
    "    for topic,conf in qtopics:\n",
    "        total+=conf\n",
    "        cosines = cos_sim(model.encode(topic), all_topics_emb)\n",
    "        ags = (-cosines).argsort()[0].tolist()\n",
    "        argsorts.append([ags[:30], cosines[0]])\n",
    "    \n",
    "    user_comb_score = defaultdict(float)\n",
    "    for [topic,conf],[ag,coss] in zip(qtopics,argsorts):\n",
    "        \n",
    "        ind_rows = []\n",
    "#         print(topic)\n",
    "        for idx in ag:\n",
    "            for u in topic_to_user[all_topics[idx]]:\n",
    "                if u == 'AutoModerator': continue\n",
    "                if all_topics[idx] not in user_data[u]['top_conf']: continue\n",
    "                    \n",
    "                u_scores = user_data[u]['top_conf'][all_topics[idx]]\n",
    "                \n",
    "                user_comb_score[u] += (conf/total) * u_scores[0] * (coss[idx]+1)/2\n",
    "#                 ind_rows.append([u, all_topics[idx], round(u_scores[0],4), \\\n",
    "#                                  u_scores[1], round((conf/total) * u_scores[0] * coss[idx].item(),4)])\n",
    "                ind_rows.append([u, all_topics[idx], round(u_scores[0]*100,4), \\\n",
    "                                 u_scores[1], round((conf/total) * u_scores[0] * (coss[idx].item()+1)/2,4)])\n",
    "                \n",
    "        ind_rows = sorted(ind_rows, key=lambda x:x[4], reverse=True)[:30]\n",
    "        df.append([query, [topic,round(conf/total*100,4),conf], \\\n",
    "                   [ [all_topics[i],round( (coss[i].item()+1)/2,4)] for i in ag], ind_rows])\n",
    "#         input()\n",
    "#     print(user_comb_score)\n",
    "    \n",
    "    users,_ = zip(*sorted(user_comb_score.items(), key=lambda x:x[1], reverse=True))\n",
    "    pred = set(users[:10])\n",
    "    for idx,row in enumerate(df):\n",
    "        inter = set([i[0] for i in row[-1]])&pred\n",
    "        inter = sorted([[i, round(user_comb_score[i].item(),4)] for i in inter ],reverse=True,key=lambda x:x[1])\n",
    "        df[idx] = df[idx] + [inter, gt]\n",
    "    assert len(set(users[:30])-chosen_uids)==0\n",
    "    return users, df"
   ]
  },
  {
   "cell_type": "code",
   "execution_count": 91,
   "id": "therapeutic-diabetes",
   "metadata": {
    "scrolled": true
   },
   "outputs": [
    {
     "name": "stderr",
     "output_type": "stream",
     "text": [
      "100%|████████████████████████████████████████████████████████████████████████████████| 481/481 [00:05<00:00, 82.13it/s]\n"
     ]
    },
    {
     "data": {
      "text/plain": [
       "(0.01, 0.03459401709401709, 0.07823382173382173)"
      ]
     },
     "execution_count": 91,
     "metadata": {},
     "output_type": "execute_result"
    }
   ],
   "source": [
    "rec = []\n",
    "df=[]\n",
    "K=[10,20,30]\n",
    "for pid,gt in tqdm(test_data):\n",
    "    if pid not in rand_te: continue\n",
    "    if not post_data[pid]['tags']: continue\n",
    "    if not set(post_data[pid]['tags'])-tags_to_ignore: continue\n",
    "    text = post_data[pid]['title']+' '+post_data[pid]['text']\n",
    "    pred,df_ = get_contrib_usr_ind_tt(text,K,[[i,1] for i in post_data[pid]['tags']], gt)\n",
    "    df+=df_\n",
    "    row=[]\n",
    "    for k in K:\n",
    "        row.append( len( gt&set(pred[:k]) )/ min(k,len(gt)) )\n",
    "    rec.append(row)\n",
    "#     print('-'*50)\n",
    "rec = np.array(rec)\n",
    "np.mean(rec[:,0]),np.mean(rec[:,1]),np.mean(rec[:,2])"
   ]
  },
  {
   "cell_type": "code",
   "execution_count": 95,
   "id": "advisory-monroe",
   "metadata": {},
   "outputs": [],
   "source": [
    "pd.DataFrame(df).to_csv('reddit.csv')"
   ]
  },
  {
   "cell_type": "code",
   "execution_count": 96,
   "id": "blessed-association",
   "metadata": {},
   "outputs": [
    {
     "data": {
      "text/plain": [
       "['Minimizing civilian casualties during the siege of Mariupol? What are the best practices of minimizing civilian casualties in cities under siege, as applied to the siege of Mariupol?\\nI am looking for best practices from the perspective of world civilians, including civilians inside and outside of Mariupol. So please, no answers advocating WWIII to help Mariupol civilians.\\nRealistic scenarios only, please!\\nSEE ALSO:\\nCould humanitarian aid be provided in Mariupol through the air? (refers only to help through the air, which is a subset of the current question)\\nWhat is the purpose of the siege of the Ukrainian city of Mariupol by the Russian invaders? (some general info useful to answer the current question)\\nWhat is the rationale of Russian troops not allowing civilians to evacuate from the encircled cities? (still more info)\\nSiege of Mariupol  (Wikipedia page on the subject, lots of info)\\nNOTES:\\nAnswers supported by references are preferred, historical references are highly appreciated.\\nPlease be mostly objective and friendly, and follow the Help Center guidance.\\n',\n",
       " ['russian-federation', 20.0, 1],\n",
       " [['russian-federation', 1.0],\n",
       "  ['soviet-union', 0.8217],\n",
       "  ['vladimir-putin', 0.7789],\n",
       "  ['ukraine', 0.6931],\n",
       "  ['crimea', 0.6769],\n",
       "  ['alexei-navalny', 0.6729],\n",
       "  ['totalitarianism', 0.6491],\n",
       "  ['federalism', 0.647],\n",
       "  ['belarus', 0.6383],\n",
       "  ['united-kingdom', 0.6338],\n",
       "  ['state-department', 0.6194],\n",
       "  ['populism', 0.6129],\n",
       "  ['western-world', 0.6129],\n",
       "  ['territorial-dispute', 0.612],\n",
       "  ['united-nations', 0.6118],\n",
       "  ['polarization', 0.6081],\n",
       "  ['persian-gulf', 0.6069],\n",
       "  ['nord-stream', 0.6054],\n",
       "  ['poland', 0.6053],\n",
       "  ['international', 0.6046],\n",
       "  ['democratic-socialism', 0.6037],\n",
       "  ['prime-minister', 0.6029],\n",
       "  ['international-relations', 0.6025],\n",
       "  ['alaska', 0.6019],\n",
       "  ['nationalization', 0.6006],\n",
       "  ['islamic-state', 0.5979],\n",
       "  ['labor-union', 0.5976],\n",
       "  ['direct-democracy', 0.5975],\n",
       "  ['anarcho-capitalism', 0.5964],\n",
       "  ['mueller-investigation', 0.5951]],\n",
       " [[32984.0, 'russian-federation', 33.3333, 1, 0.0667],\n",
       "  [36175.0, 'russian-federation', 27.2727, 9, 0.0545],\n",
       "  [32984.0, 'vladimir-putin', 33.3333, 1, 0.0519],\n",
       "  [44975.0, 'ukraine', 30.2632, 23, 0.042],\n",
       "  [28554.0, 'russian-federation', 20.9091, 46, 0.0418],\n",
       "  [11624.0, 'russian-federation', 20.5128, 16, 0.041],\n",
       "  [21914.0, 'russian-federation', 20.2454, 33, 0.0405],\n",
       "  [44975.0, 'russian-federation', 19.7368, 15, 0.0395],\n",
       "  [8818.0, 'united-kingdom', 30.6122, 15, 0.0388],\n",
       "  [44167.0, 'russian-federation', 18.9189, 7, 0.0378],\n",
       "  [36175.0, 'ukraine', 27.2727, 9, 0.0378],\n",
       "  [39024.0, 'russian-federation', 18.8119, 19, 0.0376],\n",
       "  [25206.0, 'russian-federation', 18.5185, 10, 0.037],\n",
       "  [33245.0, 'russian-federation', 18.1818, 4, 0.0364],\n",
       "  [5882.0, 'russian-federation', 18.0556, 13, 0.0361],\n",
       "  [6304.0, 'russian-federation', 17.7215, 14, 0.0354],\n",
       "  [2670.0, 'russian-federation', 17.1821, 50, 0.0344],\n",
       "  [28488.0, 'united-kingdom', 26.6667, 16, 0.0338],\n",
       "  [28396.0, 'russian-federation', 16.458, 92, 0.0329],\n",
       "  [4815.0, 'russian-federation', 16.3265, 16, 0.0327],\n",
       "  [6178.0, 'russian-federation', 15.8537, 13, 0.0317],\n",
       "  [13769.0, 'russian-federation', 15.873, 10, 0.0317],\n",
       "  [33872.0, 'united-kingdom', 25.0, 13, 0.0317],\n",
       "  [15746.0, 'united-kingdom', 25.0, 2, 0.0317],\n",
       "  [42147.0, 'russian-federation', 15.7303, 14, 0.0315],\n",
       "  [18740.0, 'russian-federation', 15.625, 10, 0.0312],\n",
       "  [21914.0, 'ukraine', 22.0859, 36, 0.0306],\n",
       "  [41763.0, 'russian-federation', 15.2639, 107, 0.0305],\n",
       "  [5933.0, 'russian-federation', 15.2542, 9, 0.0305],\n",
       "  [23600.0, 'united-kingdom', 23.6559, 22, 0.03]],\n",
       " [[36175.0, 0.3771],\n",
       "  [32984.0, 0.3291],\n",
       "  [44975.0, 0.3263],\n",
       "  [21914.0, 0.3187],\n",
       "  [28554.0, 0.2933],\n",
       "  [5882.0, 0.2654],\n",
       "  [33245.0, 0.2624],\n",
       "  [6304.0, 0.2507]],\n",
       " {3135.0,\n",
       "  8199.0,\n",
       "  8959.0,\n",
       "  14436.0,\n",
       "  22967.0,\n",
       "  28396.0,\n",
       "  28554.0,\n",
       "  36346.0,\n",
       "  36487.0,\n",
       "  39196.0}]"
      ]
     },
     "execution_count": 96,
     "metadata": {},
     "output_type": "execute_result"
    }
   ],
   "source": [
    "df[0]"
   ]
  },
  {
   "cell_type": "code",
   "execution_count": 98,
   "id": "heated-scott",
   "metadata": {},
   "outputs": [],
   "source": [
    "import torch"
   ]
  },
  {
   "cell_type": "code",
   "execution_count": 94,
   "id": "induced-thanks",
   "metadata": {},
   "outputs": [],
   "source": [
    "all_uids, user_embs, all_pids, all_tags, _ = \\\n",
    "pickle.load(open('/data/Projects/recommend_users_to_posts/so_tr_data.pkl', 'rb'))"
   ]
  },
  {
   "cell_type": "code",
   "execution_count": 96,
   "id": "rapid-spanish",
   "metadata": {},
   "outputs": [],
   "source": [
    "all_uid_id = {j:i for i,j in enumerate(all_uids)}\n",
    "all_tag_id = {j:i for i,j in enumerate(all_tags)}"
   ]
  },
  {
   "cell_type": "code",
   "execution_count": 105,
   "id": "substantial-italian",
   "metadata": {},
   "outputs": [],
   "source": [
    "model_wgts = torch.load('/data/Projects/recommend_users_to_posts/Models/model.pt')\n",
    "user_embs = model_wgts['node_embeddings.weight']\n",
    "tag_embs = model_wgts['node_embeddings.weight']"
   ]
  },
  {
   "cell_type": "code",
   "execution_count": 109,
   "id": "eastern-conspiracy",
   "metadata": {},
   "outputs": [],
   "source": [
    "user_tag = cos_sim(tag_embs, user_embs)"
   ]
  },
  {
   "cell_type": "code",
   "execution_count": 112,
   "id": "palestinian-stylus",
   "metadata": {},
   "outputs": [
    {
     "data": {
      "text/plain": [
       "tensor(0.8714, device='cuda:0')"
      ]
     },
     "execution_count": 112,
     "metadata": {},
     "output_type": "execute_result"
    }
   ],
   "source": [
    "torch.min(user_tag)"
   ]
  },
  {
   "cell_type": "code",
   "execution_count": null,
   "id": "interested-begin",
   "metadata": {},
   "outputs": [],
   "source": [
    "topic_to_user"
   ]
  },
  {
   "cell_type": "code",
   "execution_count": 102,
   "id": "concerned-smile",
   "metadata": {},
   "outputs": [],
   "source": [
    "def get_contrib_tag_network(qtopics,K):\n",
    "    user_comb_score = defaultdict(float)\n",
    "    for topic in qtopics:\n",
    "        cosines = cos_sim(tag_embs[all_tag_id[topic]] ,user_embs)\n",
    "        ags = (-cosines).argsort()[0].tolist()[:30]\n",
    "        for idx in ags:\n",
    "            user_comb_score[all_uids[idx]]+=cosines[0][idx].item()\n",
    "            \n",
    "    users,_ = zip(*sorted(user_comb_score.items(), key=lambda x:x[1], reverse=True))\n",
    "    users = [int(i[1:]) for i in users]\n",
    "    return set(users[:K])"
   ]
  },
  {
   "cell_type": "code",
   "execution_count": 107,
   "id": "convenient-benchmark",
   "metadata": {},
   "outputs": [
    {
     "name": "stderr",
     "output_type": "stream",
     "text": [
      "100%|███████████████████████████████████████████████████████████████████████████████| 481/481 [00:01<00:00, 404.58it/s]\n"
     ]
    },
    {
     "data": {
      "text/plain": [
       "0.015525690525690528"
      ]
     },
     "execution_count": 107,
     "metadata": {},
     "output_type": "execute_result"
    }
   ],
   "source": [
    "rec = []\n",
    "K=10\n",
    "for pid,gt in tqdm(test_data):\n",
    "    \n",
    "    if not post_data[pid]['tags']: continue\n",
    "\n",
    "    pred = get_contrib_tag_network(post_data[pid]['tags'], K)\n",
    "    rec.append( len( gt&pred )/ min(K,len(gt)) )\n",
    "#     print('-'*50)\n",
    "np.mean(rec)"
   ]
  },
  {
   "cell_type": "code",
   "execution_count": null,
   "id": "academic-mattress",
   "metadata": {},
   "outputs": [],
   "source": []
  }
 ],
 "metadata": {
  "kernelspec": {
   "display_name": "OPT",
   "language": "python",
   "name": "opt"
  },
  "language_info": {
   "codemirror_mode": {
    "name": "ipython",
    "version": 3
   },
   "file_extension": ".py",
   "mimetype": "text/x-python",
   "name": "python",
   "nbconvert_exporter": "python",
   "pygments_lexer": "ipython3",
   "version": "3.8.5"
  }
 },
 "nbformat": 4,
 "nbformat_minor": 5
}
