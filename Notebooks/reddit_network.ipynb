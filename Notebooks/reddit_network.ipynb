{
 "cells": [
  {
   "cell_type": "code",
   "execution_count": 52,
   "id": "confirmed-robinson",
   "metadata": {},
   "outputs": [],
   "source": [
    "import networkx as nx\n",
    "import matplotlib.pyplot as plt\n",
    "import pickle\n",
    "from tqdm import tqdm\n",
    "import math\n",
    "import random\n",
    "import numpy as np\n",
    "from copy import deepcopy\n",
    "from collections import defaultdict"
   ]
  },
  {
   "cell_type": "code",
   "execution_count": 2,
   "id": "vital-voltage",
   "metadata": {},
   "outputs": [],
   "source": [
    "post_data, threads, user_data = pickle.load(open('/home/nirmal/topic_tagging/query_TT/Notebooks/reddit-cyber.pkl', 'rb'))"
   ]
  },
  {
   "cell_type": "code",
   "execution_count": 3,
   "id": "occupational-shelf",
   "metadata": {},
   "outputs": [],
   "source": [
    "tr_pids, tr_doc_info, te_pids, exp_users = pickle.load(open('/home/nirmal/topic_tagging/query_TT/Notebooks/reddit_dataset_cyber.pkl','rb'))"
   ]
  },
  {
   "cell_type": "code",
   "execution_count": 18,
   "id": "complimentary-ocean",
   "metadata": {
    "collapsed": true
   },
   "outputs": [
    {
     "data": {
      "text/plain": [
       "['Internexus',\n",
       " 'tweedge',\n",
       " 'nunley',\n",
       " 'stacksmasher',\n",
       " 'danfirst',\n",
       " 'bughousenut',\n",
       " 'corn_29',\n",
       " 'Norcal712',\n",
       " 'xAlphamang',\n",
       " 'Rsubs33',\n",
       " 'Temptunes48',\n",
       " 'GingasaurusWrex',\n",
       " 'Trini_Vix7',\n",
       " 'reckless_boar',\n",
       " 'hunglowbungalow',\n",
       " 'Cautious_General_177',\n",
       " 'pcapdata',\n",
       " 'Slateclean',\n",
       " 'LaughterHouseV',\n",
       " '1128327',\n",
       " 'TrustmeImaConsultant',\n",
       " 'Benoit_In_Heaven',\n",
       " 'BottledH2O',\n",
       " 'lawtechie',\n",
       " 'heisenbergerwcheese',\n",
       " 'ThePorko',\n",
       " 'right_closed_traffic',\n",
       " 'citrus_sugar',\n",
       " 'BankEmoji',\n",
       " 'max1001',\n",
       " 'dflame45',\n",
       " 'iSheepTouch',\n",
       " 'Security_Chief_Odo',\n",
       " 'foxhelp',\n",
       " '1Second2Name5things',\n",
       " 'rksd',\n",
       " 'Obi_Maximus_Windu',\n",
       " 'Ignorad',\n",
       " 'red_shrike',\n",
       " 'Mrhiddenlotus',\n",
       " 'genericindianguy',\n",
       " '800oz_gorilla',\n",
       " 'HeyGuyGuyGuy',\n",
       " 'payne747',\n",
       " 'ShameNap',\n",
       " 'seanprefect',\n",
       " 'guru-1337',\n",
       " 'Ghawblin',\n",
       " 'prestelpirate',\n",
       " 'LumpyStyx',\n",
       " 'CosmicMiru',\n",
       " 'uid_0',\n",
       " 'ayhme',\n",
       " 'Kern3LP4niK',\n",
       " 'HeWhoChokesOnWater',\n",
       " 'AutoModerator',\n",
       " 'mellonauto',\n",
       " 'OMGWTHEFBBQ',\n",
       " 'chazzybeats',\n",
       " 'atamicbomb',\n",
       " 'Armigine',\n",
       " 'Blacksun388',\n",
       " 'ZeroGrav4',\n",
       " 'sylver_dragon',\n",
       " 'JupitersHot',\n",
       " 'RemindMeBot',\n",
       " 'Oscar_Geare',\n",
       " 'rtuite81',\n",
       " 'PC509',\n",
       " 'DingussFinguss',\n",
       " 'Legionodeath',\n",
       " 'Namelock',\n",
       " 'marklein',\n",
       " '223454',\n",
       " 'salanderlogic',\n",
       " 'JustinBrower',\n",
       " 'bitslammer',\n",
       " 'catastrophized',\n",
       " 'reds-3',\n",
       " 'ManuTh3Great',\n",
       " 'eco_go5',\n",
       " 'Eskimoobob',\n",
       " 'blahdidbert',\n",
       " 'lfionxkshine',\n",
       " 'careerAlt123',\n",
       " 'cerebralvenom',\n",
       " 'mk3s',\n",
       " 'thejournalizer',\n",
       " 'countvonruckus',\n",
       " 'Null_Moniker',\n",
       " 'Fr0gm4n',\n",
       " 'ShakespearianShadows',\n",
       " 'LogixAcademyLtd',\n",
       " 'Anastasia_IT',\n",
       " 'imjusthinkingok',\n",
       " 'linux203',\n",
       " 'kiakosan',\n",
       " 'BeerJunky',\n",
       " 'YouAreSpooky',\n",
       " 'canttouchdeez',\n",
       " 'Jisamaniac',\n",
       " 'Wentz_ylvania',\n",
       " 'Rainwater_Essence',\n",
       " 'jonbristow',\n",
       " 'Hi-Im-John1',\n",
       " 'Beef_Studpile',\n",
       " 'PolicyArtistic8545',\n",
       " 'cea1990',\n",
       " 'TheOtherDrunkenOtter',\n",
       " 'JohnWickin2020',\n",
       " 'Eisn',\n",
       " 'No-Werewolf-5461',\n",
       " '-Bran-',\n",
       " 'sma92878',\n",
       " 'bcjh',\n",
       " 'Cquintessential',\n",
       " 'Encryptedmind',\n",
       " 'Wisdom_is_Contraband',\n",
       " 'infosec4pay',\n",
       " '39AE86',\n",
       " 'Thecrawsome',\n",
       " 'infinityprime',\n",
       " 'Kabloosh75',\n",
       " 'munchbunny',\n",
       " 'MonsieurVox',\n",
       " 'billy_teats',\n",
       " 'wharlie',\n",
       " 'tiredzillenial',\n",
       " 'TechFiend72',\n",
       " 'blumira',\n",
       " 'No-job-no-money',\n",
       " 'Pol8y',\n",
       " 'michaelnz29',\n",
       " 'crabapplesteam',\n",
       " 'TheRidgeAndTheLadder',\n",
       " 'Pie-Otherwise',\n",
       " 'AnIrregularRegular',\n",
       " 'ChanceKale7861',\n",
       " 'hawaiijim',\n",
       " 'throwawayPzaFm',\n",
       " 'Judoka229',\n",
       " 'tusharg19',\n",
       " 'xnrkl',\n",
       " 'stratus41298',\n",
       " 'CaptainWellingtonIII',\n",
       " 'AlienMajik',\n",
       " 'WorldBelongsToUs',\n",
       " '-------I-------',\n",
       " 'JustPhil_online',\n",
       " 'dspark',\n",
       " 'Sittadel']"
      ]
     },
     "execution_count": 18,
     "metadata": {},
     "output_type": "execute_result"
    }
   ],
   "source": [
    "exp_users"
   ]
  },
  {
   "cell_type": "code",
   "execution_count": 4,
   "id": "legendary-cement",
   "metadata": {},
   "outputs": [],
   "source": [
    "threads = threads['cybersecurity']"
   ]
  },
  {
   "cell_type": "code",
   "execution_count": 5,
   "id": "legislative-increase",
   "metadata": {},
   "outputs": [
    {
     "data": {
      "text/plain": [
       "(66992, 953, 21589)"
      ]
     },
     "execution_count": 5,
     "metadata": {},
     "output_type": "execute_result"
    }
   ],
   "source": [
    "len(post_data), len(threads), len(user_data)"
   ]
  },
  {
   "cell_type": "code",
   "execution_count": 45,
   "id": "opponent-piano",
   "metadata": {},
   "outputs": [],
   "source": [
    "node_attr = defaultdict(dict)\n",
    "edges = []\n",
    "user_edges = defaultdict(int)\n",
    "for rid in threads:\n",
    "    \n",
    "    cur_tree = threads[rid][0]\n",
    "    tr_te = 'Train' if rid in tr_pids else 'Test' if rid in te_pids else 'None'\n",
    "    for edge in cur_tree.edges():\n",
    "        edges.append(list(edge)+[{'type':'p-p'}])\n",
    "        u1 = post_data[edge[0]]['user_name']\n",
    "        u2 = post_data[edge[1]]['user_name']\n",
    "        edges.append([u1, edge[0], {'type':'u-p'}])\n",
    "        edges.append([u2, edge[1], {'type':'u-p'}])\n",
    "        \n",
    "        node_attr[u1]={'type':'User', 'chosen':'Yes' if u1 in exp_users else 'No'}\n",
    "        node_attr[u2]={'type':'User', 'chosen':'Yes' if u2 in exp_users else 'No'}\n",
    "        if u1!=u2:\n",
    "            user_edges[tuple(sorted([u1,u2]))]+=1\n",
    "        node_attr[edge[0]]={**post_data[edge[0]],**{'split':tr_te}}\n",
    "        node_attr[edge[1]]={**post_data[edge[1]],**{'split':tr_te}}"
   ]
  },
  {
   "cell_type": "code",
   "execution_count": 62,
   "id": "ahead-harris",
   "metadata": {},
   "outputs": [],
   "source": [
    "user_edge_wgts = sorted(user_edges.values())"
   ]
  },
  {
   "cell_type": "code",
   "execution_count": 46,
   "id": "objective-wiring",
   "metadata": {},
   "outputs": [],
   "source": [
    "user_G = nx.Graph([[i[0],i[1],{'weight':j}] for i,j in user_edges.items()])\n",
    "nx.set_node_attributes(G, {i:j for i,j in node_attr.items() if j['type']=='User'})"
   ]
  },
  {
   "cell_type": "code",
   "execution_count": 63,
   "id": "thermal-picnic",
   "metadata": {},
   "outputs": [
    {
     "name": "stdout",
     "output_type": "stream",
     "text": [
      "5 - 1.0\n",
      "10 - 1.0\n",
      "25 - 1.0\n",
      "50 - 1.0\n",
      "75 - 1.0\n",
      "90 - 2.0\n",
      "95 - 3.0\n",
      "99 - 5.0\n"
     ]
    }
   ],
   "source": [
    "for i in [5,10,25,50,75,90,95,99]:\n",
    "    print(f\"{i} - {np.percentile(user_edge_wgts,i)}\")"
   ]
  },
  {
   "cell_type": "code",
   "execution_count": 64,
   "id": "restricted-seventh",
   "metadata": {},
   "outputs": [
    {
     "data": {
      "text/plain": [
       "(array([402.,  50.,  43.,  17.,  14.,   4.,   4.,   4.,   1.,   2.,   0.,\n",
       "          1.,   0.,   0.,   0.,   0.,   0.,   1.,   1.,   0.,   0.,   0.,\n",
       "          1.,   0.,   0.,   0.,   0.,   0.,   0.,   0.,   0.,   0.,   0.,\n",
       "          0.,   0.,   0.,   0.,   1.]),\n",
       " array([ 5.        ,  6.02631579,  7.05263158,  8.07894737,  9.10526316,\n",
       "        10.13157895, 11.15789474, 12.18421053, 13.21052632, 14.23684211,\n",
       "        15.26315789, 16.28947368, 17.31578947, 18.34210526, 19.36842105,\n",
       "        20.39473684, 21.42105263, 22.44736842, 23.47368421, 24.5       ,\n",
       "        25.52631579, 26.55263158, 27.57894737, 28.60526316, 29.63157895,\n",
       "        30.65789474, 31.68421053, 32.71052632, 33.73684211, 34.76315789,\n",
       "        35.78947368, 36.81578947, 37.84210526, 38.86842105, 39.89473684,\n",
       "        40.92105263, 41.94736842, 42.97368421, 44.        ]),\n",
       " <BarContainer object of 38 artists>)"
      ]
     },
     "execution_count": 64,
     "metadata": {},
     "output_type": "execute_result"
    },
    {
     "data": {
      "image/png": "[encoded data removed]",
      "text/plain": [
       "<Figure size 432x288 with 1 Axes>"
      ]
     },
     "metadata": {
      "needs_background": "light"
     },
     "output_type": "display_data"
    }
   ],
   "source": [
    "plt.hist([i for i in user_edges.values() if i>=5], bins=38)"
   ]
  },
  {
   "cell_type": "code",
   "execution_count": 42,
   "id": "confident-yugoslavia",
   "metadata": {},
   "outputs": [
    {
     "data": {
      "text/plain": [
       "(19774, 41502)"
      ]
     },
     "execution_count": 42,
     "metadata": {},
     "output_type": "execute_result"
    }
   ],
   "source": [
    "len(user_G), len(user_G.edges())"
   ]
  },
  {
   "cell_type": "code",
   "execution_count": 7,
   "id": "outside-measurement",
   "metadata": {},
   "outputs": [],
   "source": [
    "G = nx.DiGraph(edges)\n",
    "nx.set_node_attributes(G, node_attr)"
   ]
  },
  {
   "cell_type": "code",
   "execution_count": 21,
   "id": "endless-football",
   "metadata": {
    "collapsed": true
   },
   "outputs": [
    {
     "name": "stderr",
     "output_type": "stream",
     "text": [
      "  1%|▉                                                                           | 876/75333 [01:19<1:53:02, 10.98it/s]\n"
     ]
    },
    {
     "ename": "KeyboardInterrupt",
     "evalue": "",
     "output_type": "error",
     "traceback": [
      "\u001b[0;31m---------------------------------------------------------------------------\u001b[0m",
      "\u001b[0;31mKeyboardInterrupt\u001b[0m                         Traceback (most recent call last)",
      "Input \u001b[0;32mIn [21]\u001b[0m, in \u001b[0;36m<cell line: 2>\u001b[0;34m()\u001b[0m\n\u001b[1;32m      3\u001b[0m \u001b[38;5;28;01mfor\u001b[39;00m u2 \u001b[38;5;129;01min\u001b[39;00m \u001b[38;5;28mlist\u001b[39m(node_attr\u001b[38;5;241m.\u001b[39mkeys()):\n\u001b[1;32m      4\u001b[0m     \u001b[38;5;28;01mif\u001b[39;00m u1\u001b[38;5;241m==\u001b[39mu2: \u001b[38;5;28;01mcontinue\u001b[39;00m\n\u001b[0;32m----> 5\u001b[0m     \u001b[43mnx\u001b[49m\u001b[38;5;241;43m.\u001b[39;49m\u001b[43mall_simple_paths\u001b[49m\u001b[43m(\u001b[49m\u001b[43mG\u001b[49m\u001b[43m,\u001b[49m\u001b[43m \u001b[49m\u001b[43mu1\u001b[49m\u001b[43m,\u001b[49m\u001b[43m \u001b[49m\u001b[43mu2\u001b[49m\u001b[43m,\u001b[49m\u001b[43m \u001b[49m\u001b[43mcutoff\u001b[49m\u001b[38;5;241;43m=\u001b[39;49m\u001b[38;5;241;43m3\u001b[39;49m\u001b[43m)\u001b[49m\n",
      "File \u001b[0;32m~/miniconda3/envs/OPT/lib/python3.8/site-packages/networkx/algorithms/simple_paths.py:236\u001b[0m, in \u001b[0;36mall_simple_paths\u001b[0;34m(G, source, target, cutoff)\u001b[0m\n\u001b[1;32m    234\u001b[0m     \u001b[38;5;28;01mraise\u001b[39;00m nx\u001b[38;5;241m.\u001b[39mNodeNotFound(\u001b[38;5;124mf\u001b[39m\u001b[38;5;124m\"\u001b[39m\u001b[38;5;124msource node \u001b[39m\u001b[38;5;132;01m{\u001b[39;00msource\u001b[38;5;132;01m}\u001b[39;00m\u001b[38;5;124m not in graph\u001b[39m\u001b[38;5;124m\"\u001b[39m)\n\u001b[1;32m    235\u001b[0m \u001b[38;5;28;01mif\u001b[39;00m target \u001b[38;5;129;01min\u001b[39;00m G:\n\u001b[0;32m--> 236\u001b[0m     targets \u001b[38;5;241m=\u001b[39m {target}\n\u001b[1;32m    237\u001b[0m \u001b[38;5;28;01melse\u001b[39;00m:\n\u001b[1;32m    238\u001b[0m     \u001b[38;5;28;01mtry\u001b[39;00m:\n",
      "\u001b[0;31mKeyboardInterrupt\u001b[0m: "
     ]
    }
   ],
   "source": [
    "user_edges = []\n",
    "for u1 in tqdm(list(node_attr.keys())):\n",
    "    for u2 in list(node_attr.keys()):\n",
    "        if u1==u2: continue\n",
    "        nx.all_simple_paths(G, u1, u2, cutoff=3)"
   ]
  },
  {
   "cell_type": "code",
   "execution_count": 8,
   "id": "japanese-speaking",
   "metadata": {},
   "outputs": [
    {
     "data": {
      "text/plain": [
       "(75333, 110165)"
      ]
     },
     "execution_count": 8,
     "metadata": {},
     "output_type": "execute_result"
    }
   ],
   "source": [
    "len(G), len(G.edges())"
   ]
  },
  {
   "cell_type": "code",
   "execution_count": 47,
   "id": "thrown-rhythm",
   "metadata": {},
   "outputs": [],
   "source": [
    "from neo4j import GraphDatabase\n",
    "class Neo4jConnection:\n",
    "    \n",
    "    def __init__(self, uri, user, pwd):\n",
    "        self.__uri = uri\n",
    "        self.__user = user\n",
    "        self.__pwd = pwd\n",
    "        self.__driver = None\n",
    "        try:\n",
    "            self.__driver = GraphDatabase.driver(self.__uri, auth=(self.__user, self.__pwd))\n",
    "        except Exception as e:\n",
    "            print(\"Failed to create the driver:\", e)\n",
    "        \n",
    "    def close(self):\n",
    "        if self.__driver is not None:\n",
    "            self.__driver.close()\n",
    "        \n",
    "    def query(self, query, parameters=None, db=None):\n",
    "        assert self.__driver is not None, \"Driver not initialized!\"\n",
    "        session = None\n",
    "        response = None\n",
    "        try: \n",
    "            session = self.__driver.session(database=db) if db is not None else self.__driver.session() \n",
    "            response = list(session.run(query, parameters))\n",
    "        except Exception as e:\n",
    "            print(\"Query failed:\", e)\n",
    "        finally: \n",
    "            if session is not None:\n",
    "                session.close()\n",
    "        return response\n",
    "    \n",
    "conn = Neo4jConnection(uri=\"neo4j://localhost:7687\", \n",
    "                       user=\"neo4j\",              \n",
    "                       pwd=\"2000\")"
   ]
  },
  {
   "cell_type": "code",
   "execution_count": 14,
   "id": "aquatic-analyst",
   "metadata": {},
   "outputs": [
    {
     "name": "stderr",
     "output_type": "stream",
     "text": [
      "100%|█████████████████████████████████████████████████████████████████████████| 75333/75333 [00:03<00:00, 21115.97it/s]\n"
     ]
    },
    {
     "data": {
      "text/plain": [
       "[]"
      ]
     },
     "execution_count": 14,
     "metadata": {},
     "output_type": "execute_result"
    }
   ],
   "source": [
    "batch_data = {'batch':[]}\n",
    "for node in tqdm(G.nodes()):\n",
    "    check_q = 'match (n) where n.id=$id return n'\n",
    "\n",
    "    cat_dict = G.nodes[node]\n",
    "    cat_dict['id'] = node\n",
    "#     if 'pages' in cat_dict: del cat_dict['pages']\n",
    "    batch_data['batch'].append(cat_dict)\n",
    "    \n",
    "    if len(batch_data['batch'])==50000:\n",
    "        conn.query(\"UNWIND $batch as row CREATE (n:reddit) SET n+= row\",batch_data)\n",
    "        batch_data = {'batch':[]}\n",
    "conn.query(\"UNWIND $batch as row CREATE (n:reddit) SET n+= row\",batch_data)"
   ]
  },
  {
   "cell_type": "code",
   "execution_count": 15,
   "id": "noticed-chess",
   "metadata": {
    "scrolled": true
   },
   "outputs": [
    {
     "name": "stderr",
     "output_type": "stream",
     "text": [
      "100%|███████████████████████████████████████████████████████████████████████| 110165/110165 [00:05<00:00, 18839.16it/s]\n"
     ]
    }
   ],
   "source": [
    "batch_rel = {'batch':[]}\n",
    "for idx,(u,v,d) in enumerate(tqdm(G.edges(data=True))):\n",
    "    rel_dict = {'from':u, 'to':v, }\n",
    "    batch_rel['batch'].append(rel_dict)\n",
    "    if len(batch_rel['batch'])<10000:        \n",
    "        continue\n",
    "    q = \"\\\n",
    "UNWIND $batch as row \\\n",
    "MATCH (a:reddit {id: row.from}) \\\n",
    "MATCH (b:reddit {id:row.to}) \\\n",
    "MERGE (a)-[rel: PARENT_OF]->(b) \\\n",
    "SET rel+= row\\\n",
    "    \"\n",
    "#     break\n",
    "    conn.query(q,batch_rel)\n",
    "    batch_rel = {'batch':[]}"
   ]
  },
  {
   "cell_type": "code",
   "execution_count": null,
   "id": "proud-season",
   "metadata": {},
   "outputs": [],
   "source": []
  },
  {
   "cell_type": "code",
   "execution_count": 49,
   "id": "narrative-michigan",
   "metadata": {},
   "outputs": [
    {
     "name": "stderr",
     "output_type": "stream",
     "text": [
      "100%|████████████████████████████████████████████████████████████████████████| 19774/19774 [00:00<00:00, 695970.99it/s]\n"
     ]
    },
    {
     "data": {
      "text/plain": [
       "[]"
      ]
     },
     "execution_count": 49,
     "metadata": {},
     "output_type": "execute_result"
    }
   ],
   "source": [
    "batch_data = {'batch':[]}\n",
    "for node in tqdm(user_G.nodes()):\n",
    "    check_q = 'match (n) where n.id=$id return n'\n",
    "\n",
    "    cat_dict = G.nodes[node]\n",
    "    cat_dict['id'] = node\n",
    "#     if 'pages' in cat_dict: del cat_dict['pages']\n",
    "    batch_data['batch'].append(cat_dict)\n",
    "    \n",
    "    if len(batch_data['batch'])==50000:\n",
    "        conn.query(\"UNWIND $batch as row CREATE (n:reddit_users) SET n+= row\",batch_data)\n",
    "        batch_data = {'batch':[]}\n",
    "conn.query(\"UNWIND $batch as row CREATE (n:reddit_users) SET n+= row\",batch_data)"
   ]
  },
  {
   "cell_type": "code",
   "execution_count": 43,
   "id": "angry-madonna",
   "metadata": {},
   "outputs": [
    {
     "name": "stderr",
     "output_type": "stream",
     "text": [
      "100%|████████████████████████████████████████████████████████████████████████| 19774/19774 [00:00<00:00, 673680.61it/s]\n"
     ]
    },
    {
     "name": "stdout",
     "output_type": "stream",
     "text": [
      "Query failed: {code: Neo.ClientError.Schema.EquivalentSchemaRuleAlreadyExists} {message: An equivalent index already exists, 'Index( id=18, name='index_afb6d691', type='RANGE', schema=(:reddit_users {id}), indexProvider='range-1.0' )'.}\n"
     ]
    }
   ],
   "source": [
    "conn.query(\"CREATE INDEX FOR (u:reddit_users) on u.id\")"
   ]
  },
  {
   "cell_type": "code",
   "execution_count": 50,
   "id": "northern-column",
   "metadata": {},
   "outputs": [
    {
     "name": "stderr",
     "output_type": "stream",
     "text": [
      "100%|█████████████████████████████████████████████████████████████████████████| 41262/41262 [00:02<00:00, 16644.93it/s]\n"
     ]
    }
   ],
   "source": [
    "batch_rel = {'batch':[]}\n",
    "for idx,(u,v,d) in enumerate(tqdm(user_G.edges(data=True))):\n",
    "    rel_dict = {'from':u, 'to':v, 'weight':d['weight']}\n",
    "    batch_rel['batch'].append(rel_dict)\n",
    "    if len(batch_rel['batch'])<10000:        \n",
    "        continue\n",
    "    q = \"\\\n",
    "UNWIND $batch as row \\\n",
    "MATCH (a:reddit_users {id: row.from}) \\\n",
    "MATCH (b:reddit_users {id:row.to}) \\\n",
    "MERGE (a)-[rel: PARENT_OF]-(b) \\\n",
    "SET rel+= row\\\n",
    "\"\n",
    "#     break\n",
    "    conn.query(q,batch_rel)\n",
    "    batch_rel = {'batch':[]}"
   ]
  },
  {
   "cell_type": "code",
   "execution_count": 48,
   "id": "raised-poverty",
   "metadata": {},
   "outputs": [
    {
     "data": {
      "text/plain": [
       "[]"
      ]
     },
     "execution_count": 48,
     "metadata": {},
     "output_type": "execute_result"
    }
   ],
   "source": [
    "conn.query('MATCH (n:reddit_users) DETACH DELETE n;')"
   ]
  },
  {
   "cell_type": "code",
   "execution_count": 14,
   "id": "enabling-command",
   "metadata": {},
   "outputs": [
    {
     "data": {
      "text/plain": [
       "('hrvyx7', 'fy6pp9x', {})"
      ]
     },
     "execution_count": 14,
     "metadata": {},
     "output_type": "execute_result"
    }
   ],
   "source": [
    "list(G.edges(data=True))[0]"
   ]
  },
  {
   "cell_type": "code",
   "execution_count": 34,
   "id": "verified-click",
   "metadata": {},
   "outputs": [],
   "source": [
    "G_und = G.to_undirected()"
   ]
  },
  {
   "cell_type": "code",
   "execution_count": 35,
   "id": "robust-concept",
   "metadata": {},
   "outputs": [],
   "source": [
    "def get_nei_nodes(nid, dep=3):\n",
    "    queue = []\n",
    "    visited = set()\n",
    "    queue.append([nid,0])\n",
    "    visited.add(nid)\n",
    "    \n",
    "    nids = []\n",
    "    while queue:\n",
    "        src = queue.pop(0)\n",
    "        nids.append(src[0])\n",
    "        if src[1]<dep:\n",
    "            for sibid in nx.all_neighbors(G_und, src[0]):\n",
    "                if sibid not in visited:\n",
    "                    queue.append([sibid, src[1]+1])\n",
    "                    visited.add(sibid)\n",
    "    return nids"
   ]
  },
  {
   "cell_type": "code",
   "execution_count": 42,
   "id": "bronze-harris",
   "metadata": {},
   "outputs": [
    {
     "name": "stdout",
     "output_type": "stream",
     "text": [
      "419 512\n",
      "11 11\n",
      "6 5\n",
      "115 120\n",
      "245 248\n"
     ]
    }
   ],
   "source": [
    "for i in random.sample(G.nodes(),5):\n",
    "    sub_nodes=get_nei_nodes(i,3)\n",
    "    sub_G = G.subgraph(sub_nodes)\n",
    "    print(len(sub_G), len(sub_G.edges()))"
   ]
  },
  {
   "cell_type": "code",
   "execution_count": 36,
   "id": "lightweight-things",
   "metadata": {},
   "outputs": [],
   "source": []
  },
  {
   "cell_type": "code",
   "execution_count": 37,
   "id": "solved-exhaust",
   "metadata": {},
   "outputs": [
    {
     "data": {
      "text/plain": [
       "559"
      ]
     },
     "execution_count": 37,
     "metadata": {},
     "output_type": "execute_result"
    }
   ],
   "source": [
    "len(sub_nodes)"
   ]
  }
 ],
 "metadata": {
  "kernelspec": {
   "display_name": "OPT",
   "language": "python",
   "name": "opt"
  },
  "language_info": {
   "codemirror_mode": {
    "name": "ipython",
    "version": 3
   },
   "file_extension": ".py",
   "mimetype": "text/x-python",
   "name": "python",
   "nbconvert_exporter": "python",
   "pygments_lexer": "ipython3",
   "version": "3.8.5"
  }
 },
 "nbformat": 4,
 "nbformat_minor": 5
}
