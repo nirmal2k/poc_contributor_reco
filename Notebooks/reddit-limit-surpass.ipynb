{
 "cells": [
  {
   "cell_type": "code",
   "execution_count": 5,
   "id": "median-disease",
   "metadata": {},
   "outputs": [],
   "source": [
    "from pmaw import PushshiftAPI\n",
    "import pandas as pd"
   ]
  },
  {
   "cell_type": "code",
   "execution_count": 1,
   "id": "typical-division",
   "metadata": {},
   "outputs": [],
   "source": [
    "api = PushshiftAPI()"
   ]
  },
  {
   "cell_type": "code",
   "execution_count": 2,
   "id": "proved-outline",
   "metadata": {},
   "outputs": [],
   "source": [
    "import datetime as dt\n",
    "before = int(dt.datetime(2023,5,11,0,0).timestamp())\n",
    "after = int(dt.datetime(2023,5,1,0,0).timestamp())"
   ]
  },
  {
   "cell_type": "code",
   "execution_count": 3,
   "id": "colored-class",
   "metadata": {},
   "outputs": [
    {
     "name": "stdout",
     "output_type": "stream",
     "text": [
      "Retrieved 488 comments from Pushshift\n"
     ]
    }
   ],
   "source": [
    "subreddit=\"cybersecurity\"\n",
    "limit=1000\n",
    "comments = api.search_comments(subreddit=subreddit, limit=limit, before=before, after=after)\n",
    "print(f'Retrieved {len(comments)} comments from Pushshift')"
   ]
  },
  {
   "cell_type": "code",
   "execution_count": null,
   "id": "suited-waterproof",
   "metadata": {},
   "outputs": [],
   "source": [
    "api.search_submissions"
   ]
  },
  {
   "cell_type": "code",
   "execution_count": 6,
   "id": "sensitive-polymer",
   "metadata": {},
   "outputs": [
    {
     "data": {
      "text/html": [
       "<div>\n",
       "<style scoped>\n",
       "    .dataframe tbody tr th:only-of-type {\n",
       "        vertical-align: middle;\n",
       "    }\n",
       "\n",
       "    .dataframe tbody tr th {\n",
       "        vertical-align: top;\n",
       "    }\n",
       "\n",
       "    .dataframe thead th {\n",
       "        text-align: right;\n",
       "    }\n",
       "</style>\n",
       "<table border=\"1\" class=\"dataframe\">\n",
       "  <thead>\n",
       "    <tr style=\"text-align: right;\">\n",
       "      <th></th>\n",
       "      <th>subreddit_id</th>\n",
       "      <th>author_is_blocked</th>\n",
       "      <th>comment_type</th>\n",
       "      <th>edited</th>\n",
       "      <th>author_flair_type</th>\n",
       "      <th>total_awards_received</th>\n",
       "      <th>subreddit</th>\n",
       "      <th>author_flair_template_id</th>\n",
       "      <th>id</th>\n",
       "      <th>gilded</th>\n",
       "      <th>...</th>\n",
       "      <th>controversiality</th>\n",
       "      <th>author_flair_background_color</th>\n",
       "      <th>collapsed_because_crowd_control</th>\n",
       "      <th>distinguished</th>\n",
       "      <th>retrieved_utc</th>\n",
       "      <th>updated_utc</th>\n",
       "      <th>body_sha1</th>\n",
       "      <th>utc_datetime_str</th>\n",
       "      <th>nest_level</th>\n",
       "      <th>author_cakeday</th>\n",
       "    </tr>\n",
       "  </thead>\n",
       "  <tbody>\n",
       "    <tr>\n",
       "      <th>0</th>\n",
       "      <td>t5_2u559</td>\n",
       "      <td>False</td>\n",
       "      <td>None</td>\n",
       "      <td>False</td>\n",
       "      <td>text</td>\n",
       "      <td>0</td>\n",
       "      <td>cybersecurity</td>\n",
       "      <td>None</td>\n",
       "      <td>jigaqqx</td>\n",
       "      <td>0</td>\n",
       "      <td>...</td>\n",
       "      <td>0</td>\n",
       "      <td>None</td>\n",
       "      <td>None</td>\n",
       "      <td>None</td>\n",
       "      <td>1682960553</td>\n",
       "      <td>1682960553</td>\n",
       "      <td>9bd193a3443d8b15f3668be61ef6eb04ad127b5a</td>\n",
       "      <td>2023-05-01 17:02:13</td>\n",
       "      <td>NaN</td>\n",
       "      <td>NaN</td>\n",
       "    </tr>\n",
       "    <tr>\n",
       "      <th>1</th>\n",
       "      <td>t5_2u559</td>\n",
       "      <td>False</td>\n",
       "      <td>None</td>\n",
       "      <td>False</td>\n",
       "      <td>text</td>\n",
       "      <td>0</td>\n",
       "      <td>cybersecurity</td>\n",
       "      <td>None</td>\n",
       "      <td>jigahpi</td>\n",
       "      <td>0</td>\n",
       "      <td>...</td>\n",
       "      <td>0</td>\n",
       "      <td>None</td>\n",
       "      <td>None</td>\n",
       "      <td>None</td>\n",
       "      <td>1682960444</td>\n",
       "      <td>1682960444</td>\n",
       "      <td>a9e1249e742c050df71ceb0165f895584cb2bb0a</td>\n",
       "      <td>2023-05-01 17:00:32</td>\n",
       "      <td>NaN</td>\n",
       "      <td>NaN</td>\n",
       "    </tr>\n",
       "    <tr>\n",
       "      <th>2</th>\n",
       "      <td>t5_2u559</td>\n",
       "      <td>False</td>\n",
       "      <td>None</td>\n",
       "      <td>False</td>\n",
       "      <td>text</td>\n",
       "      <td>0</td>\n",
       "      <td>cybersecurity</td>\n",
       "      <td>None</td>\n",
       "      <td>jigagcx</td>\n",
       "      <td>0</td>\n",
       "      <td>...</td>\n",
       "      <td>0</td>\n",
       "      <td>None</td>\n",
       "      <td>None</td>\n",
       "      <td>None</td>\n",
       "      <td>1682960436</td>\n",
       "      <td>1682960437</td>\n",
       "      <td>4beb28c78b9f1cbfd7890a0f6339635ca12e6027</td>\n",
       "      <td>2023-05-01 17:00:18</td>\n",
       "      <td>1.0</td>\n",
       "      <td>NaN</td>\n",
       "    </tr>\n",
       "    <tr>\n",
       "      <th>3</th>\n",
       "      <td>t5_2u559</td>\n",
       "      <td>False</td>\n",
       "      <td>None</td>\n",
       "      <td>False</td>\n",
       "      <td>text</td>\n",
       "      <td>0</td>\n",
       "      <td>cybersecurity</td>\n",
       "      <td>None</td>\n",
       "      <td>jig9x4u</td>\n",
       "      <td>0</td>\n",
       "      <td>...</td>\n",
       "      <td>0</td>\n",
       "      <td>None</td>\n",
       "      <td>None</td>\n",
       "      <td>None</td>\n",
       "      <td>1682960231</td>\n",
       "      <td>1682960231</td>\n",
       "      <td>f1c27730eb65d431a48198347194a7684ec777d2</td>\n",
       "      <td>2023-05-01 16:56:53</td>\n",
       "      <td>1.0</td>\n",
       "      <td>NaN</td>\n",
       "    </tr>\n",
       "    <tr>\n",
       "      <th>4</th>\n",
       "      <td>t5_2u559</td>\n",
       "      <td>False</td>\n",
       "      <td>None</td>\n",
       "      <td>False</td>\n",
       "      <td>text</td>\n",
       "      <td>0</td>\n",
       "      <td>cybersecurity</td>\n",
       "      <td>None</td>\n",
       "      <td>jig9m9p</td>\n",
       "      <td>0</td>\n",
       "      <td>...</td>\n",
       "      <td>0</td>\n",
       "      <td>None</td>\n",
       "      <td>None</td>\n",
       "      <td>None</td>\n",
       "      <td>1682960113</td>\n",
       "      <td>1682960113</td>\n",
       "      <td>caddfdfd26d07b4469f30f701f61b09d78e7a4aa</td>\n",
       "      <td>2023-05-01 16:54:58</td>\n",
       "      <td>NaN</td>\n",
       "      <td>NaN</td>\n",
       "    </tr>\n",
       "  </tbody>\n",
       "</table>\n",
       "<p>5 rows × 53 columns</p>\n",
       "</div>"
      ],
      "text/plain": [
       "  subreddit_id  author_is_blocked comment_type  edited author_flair_type  \\\n",
       "0     t5_2u559              False         None   False              text   \n",
       "1     t5_2u559              False         None   False              text   \n",
       "2     t5_2u559              False         None   False              text   \n",
       "3     t5_2u559              False         None   False              text   \n",
       "4     t5_2u559              False         None   False              text   \n",
       "\n",
       "   total_awards_received      subreddit author_flair_template_id       id  \\\n",
       "0                      0  cybersecurity                     None  jigaqqx   \n",
       "1                      0  cybersecurity                     None  jigahpi   \n",
       "2                      0  cybersecurity                     None  jigagcx   \n",
       "3                      0  cybersecurity                     None  jig9x4u   \n",
       "4                      0  cybersecurity                     None  jig9m9p   \n",
       "\n",
       "   gilded  ...  controversiality author_flair_background_color  \\\n",
       "0       0  ...                 0                          None   \n",
       "1       0  ...                 0                          None   \n",
       "2       0  ...                 0                          None   \n",
       "3       0  ...                 0                          None   \n",
       "4       0  ...                 0                          None   \n",
       "\n",
       "   collapsed_because_crowd_control distinguished  retrieved_utc  updated_utc  \\\n",
       "0                             None          None     1682960553   1682960553   \n",
       "1                             None          None     1682960444   1682960444   \n",
       "2                             None          None     1682960436   1682960437   \n",
       "3                             None          None     1682960231   1682960231   \n",
       "4                             None          None     1682960113   1682960113   \n",
       "\n",
       "                                  body_sha1     utc_datetime_str nest_level  \\\n",
       "0  9bd193a3443d8b15f3668be61ef6eb04ad127b5a  2023-05-01 17:02:13        NaN   \n",
       "1  a9e1249e742c050df71ceb0165f895584cb2bb0a  2023-05-01 17:00:32        NaN   \n",
       "2  4beb28c78b9f1cbfd7890a0f6339635ca12e6027  2023-05-01 17:00:18        1.0   \n",
       "3  f1c27730eb65d431a48198347194a7684ec777d2  2023-05-01 16:56:53        1.0   \n",
       "4  caddfdfd26d07b4469f30f701f61b09d78e7a4aa  2023-05-01 16:54:58        NaN   \n",
       "\n",
       "  author_cakeday  \n",
       "0            NaN  \n",
       "1            NaN  \n",
       "2            NaN  \n",
       "3            NaN  \n",
       "4            NaN  \n",
       "\n",
       "[5 rows x 53 columns]"
      ]
     },
     "execution_count": 6,
     "metadata": {},
     "output_type": "execute_result"
    }
   ],
   "source": [
    "comments_df = pd.DataFrame(comments)\n",
    "# preview the comments data\n",
    "comments_df.head(5)"
   ]
  },
  {
   "cell_type": "code",
   "execution_count": 10,
   "id": "universal-relative",
   "metadata": {},
   "outputs": [
    {
     "data": {
      "text/plain": [
       "1.0    202\n",
       "Name: nest_level, dtype: int64"
      ]
     },
     "execution_count": 10,
     "metadata": {},
     "output_type": "execute_result"
    }
   ],
   "source": [
    "comments_df['nest_level'].value_counts()"
   ]
  },
  {
   "cell_type": "code",
   "execution_count": 7,
   "id": "royal-fiber",
   "metadata": {},
   "outputs": [
    {
     "data": {
      "text/plain": [
       "Index(['subreddit_id', 'author_is_blocked', 'comment_type', 'edited',\n",
       "       'author_flair_type', 'total_awards_received', 'subreddit',\n",
       "       'author_flair_template_id', 'id', 'gilded', 'archived',\n",
       "       'collapsed_reason_code', 'no_follow', 'author', 'send_replies',\n",
       "       'parent_id', 'score', 'author_fullname', 'all_awardings', 'body',\n",
       "       'top_awarded_type', 'author_flair_css_class', 'author_patreon_flair',\n",
       "       'collapsed', 'author_flair_richtext', 'is_submitter', 'gildings',\n",
       "       'collapsed_reason', 'associated_award', 'stickied', 'author_premium',\n",
       "       'can_gild', 'link_id', 'unrepliable_reason', 'author_flair_text_color',\n",
       "       'score_hidden', 'permalink', 'subreddit_type', 'locked',\n",
       "       'author_flair_text', 'treatment_tags', 'created_utc',\n",
       "       'subreddit_name_prefixed', 'controversiality',\n",
       "       'author_flair_background_color', 'collapsed_because_crowd_control',\n",
       "       'distinguished', 'retrieved_utc', 'updated_utc', 'body_sha1',\n",
       "       'utc_datetime_str', 'nest_level', 'author_cakeday'],\n",
       "      dtype='object')"
      ]
     },
     "execution_count": 7,
     "metadata": {},
     "output_type": "execute_result"
    }
   ],
   "source": [
    "comments_df.columns"
   ]
  }
 ],
 "metadata": {
  "kernelspec": {
   "display_name": "OPT",
   "language": "python",
   "name": "opt"
  },
  "language_info": {
   "codemirror_mode": {
    "name": "ipython",
    "version": 3
   },
   "file_extension": ".py",
   "mimetype": "text/x-python",
   "name": "python",
   "nbconvert_exporter": "python",
   "pygments_lexer": "ipython3",
   "version": "3.8.5"
  }
 },
 "nbformat": 4,
 "nbformat_minor": 5
}
